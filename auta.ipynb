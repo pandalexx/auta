{
 "cells": [
  {
   "cell_type": "markdown",
   "id": "bedcfe50-4c01-45cc-b2e1-a91fa45dc641",
   "metadata": {},
   "source": [
    "# Webscraping a čištění dat"
   ]
  },
  {
   "cell_type": "markdown",
   "id": "9fabb3f5-59aa-4772-a92e-6eaa7dd90eae",
   "metadata": {},
   "source": [
    "#### Cílem tohoto projektu je získat z webových stránek AAA Auto data ohledně nabídek vozidel. K **webscrapingu** využívám library Selenium.\n",
    "\n",
    "#### Data by měla obsahovat následující proměnné: \n",
    "- značka\n",
    "- model\n",
    "- cena [Kč]\n",
    "- rok uvedení do provozu\n",
    "- tachometr [km]\n",
    "- výkon motoru [kW]\n",
    "- převodovka\n",
    "- barva\n",
    "- karoserie\n",
    "- palivo\n",
    "\n",
    "#### Následně je nutné docílit těchto bodů v rámci **čištění dat**:\n",
    "- data neobsahují duplicity\n",
    "- data neobsahují chybějící položky (ty jsou buď smazány nebo nahrazeny nejčastější hodnotou)\n",
    "- datové typy jsou správně\n",
    "- data jsou konzistentní (uniformní kategorické proměnné, absense nepatřičných znaků)\n",
    "- proměnné obsahují správné hodnoty (nejsou např. prohozené)\n",
    "- data jsou připravena k aplikaci ML modelu - každý sloupec obsahuje proměnnou, každý řádek obsahuje unikátní záznam"
   ]
  },
  {
   "cell_type": "code",
   "execution_count": 511,
   "id": "02a635ee-cc7f-4175-83ec-effd77f5c1b7",
   "metadata": {},
   "outputs": [],
   "source": [
    "import pandas as pd\n",
    "import numpy as np\n",
    "import time\n",
    "from selenium import webdriver\n",
    "from webdriver_manager.chrome import ChromeDriverManager"
   ]
  },
  {
   "cell_type": "markdown",
   "id": "9f2642c9-88cd-445f-b2d4-3573028949c5",
   "metadata": {},
   "source": [
    "## Část 1 - Webscraping"
   ]
  },
  {
   "cell_type": "markdown",
   "id": "bc169de3-758b-4661-9823-7de539ae5d27",
   "metadata": {},
   "source": [
    "#### Inicializace driveru a url odkazu"
   ]
  },
  {
   "cell_type": "code",
   "execution_count": 3,
   "id": "fba24424-7b19-4e40-91e5-1264cb45370b",
   "metadata": {
    "tags": []
   },
   "outputs": [
    {
     "name": "stdout",
     "output_type": "stream",
     "text": [
      "\n"
     ]
    },
    {
     "name": "stderr",
     "output_type": "stream",
     "text": [
      "[WDM] - ====== WebDriver manager ======\n",
      "[WDM] - Current google-chrome version is 103.0.5060\n",
      "[WDM] - Get LATEST chromedriver version for 103.0.5060 google-chrome\n",
      "[WDM] - About to download new driver from https://chromedriver.storage.googleapis.com/103.0.5060.134/chromedriver_win32.zip\n",
      "[WDM] - Driver has been saved in cache [C:\\Users\\uzivatel\\.wdm\\drivers\\chromedriver\\win32\\103.0.5060.134]\n",
      "C:\\Users\\uzivatel\\AppData\\Local\\Temp\\ipykernel_9356\\349924444.py:2: DeprecationWarning: executable_path has been deprecated, please pass in a Service object\n",
      "  driver = webdriver.Chrome(ChromeDriverManager().install())\n"
     ]
    }
   ],
   "source": [
    "driver = webdriver.Chrome(ChromeDriverManager().install())"
   ]
  },
  {
   "cell_type": "code",
   "execution_count": 4,
   "id": "954fd8b1-2364-474e-a89b-1d63253a6872",
   "metadata": {
    "tags": []
   },
   "outputs": [],
   "source": [
    "page_url = \"https://www.aaaauto.cz/ojete-vozy/\"\n",
    "\n",
    "driver.get(page_url)"
   ]
  },
  {
   "cell_type": "markdown",
   "id": "b4f48c47-613a-4025-b191-3339e1736055",
   "metadata": {},
   "source": [
    "#### Kliknutí na \"přijmout vše\" cookies tlačítko"
   ]
  },
  {
   "cell_type": "code",
   "execution_count": 5,
   "id": "95dc2cd2-6eb8-4710-8ec2-5122bcfe35e9",
   "metadata": {},
   "outputs": [],
   "source": [
    "from selenium.webdriver.common.by import By\n",
    "time.sleep(3)\n",
    "driver.find_element(By.CLASS_NAME, 'cookiebarBtn').click()"
   ]
  },
  {
   "cell_type": "markdown",
   "id": "70734897-8646-4087-a440-a478a7f1da4c",
   "metadata": {},
   "source": [
    "#### Extrakce nadpisů nabídek z první stránky"
   ]
  },
  {
   "cell_type": "markdown",
   "id": "e7fa975f-2ce7-4b6c-800c-6122643ec9b0",
   "metadata": {
    "jupyter": {
     "outputs_hidden": true
    },
    "tags": []
   },
   "source": [
    "nadpis_auta = driver.find_elements(By.CLASS_NAME, 'primary.notranslate')\n",
    "nadpis_auta"
   ]
  },
  {
   "cell_type": "markdown",
   "id": "6975e2da-daf4-4771-9841-4a3b68c6017b",
   "metadata": {},
   "source": [
    "nadpis_auta[0].text"
   ]
  },
  {
   "cell_type": "markdown",
   "id": "4864f2fd-de27-4a61-9d08-7b36cc039a95",
   "metadata": {},
   "source": [
    "#### Transformace nadpisů na první straně do listu"
   ]
  },
  {
   "cell_type": "code",
   "execution_count": 9,
   "id": "7bac9919-16f8-45f2-913c-25e8c92721d4",
   "metadata": {},
   "outputs": [
    {
     "data": {
      "text/plain": [
       "23"
      ]
     },
     "execution_count": 9,
     "metadata": {},
     "output_type": "execute_result"
    }
   ],
   "source": [
    "titles = []\n",
    "for nadpis in nadpis_auta:\n",
    "    title = nadpis.text\n",
    "    titles.append(title)\n",
    "len(titles)"
   ]
  },
  {
   "cell_type": "code",
   "execution_count": 75,
   "id": "4c160206-a736-4eb2-9ff4-8c992af8ad3f",
   "metadata": {
    "tags": []
   },
   "outputs": [
    {
     "data": {
      "text/plain": [
       "['Škoda Karoq, 2021',\n",
       " 'Škoda Octavia, 2021',\n",
       " 'od 4 275 Kč',\n",
       " 'Škoda Octavia, 2021',\n",
       " 'od 3 825 Kč',\n",
       " 'Škoda Karoq, 2020']"
      ]
     },
     "execution_count": 75,
     "metadata": {},
     "output_type": "execute_result"
    }
   ],
   "source": [
    "titles[:6]"
   ]
  },
  {
   "cell_type": "markdown",
   "id": "a4bf5b61-503e-4f04-a53b-f89cbf2ef787",
   "metadata": {
    "tags": []
   },
   "source": [
    "#### Extrakce odkazů nabídek z první stránky"
   ]
  },
  {
   "cell_type": "code",
   "execution_count": 11,
   "id": "5ececa4f-5ae4-45fd-a068-fa9a1f9f759b",
   "metadata": {
    "jupyter": {
     "outputs_hidden": true
    },
    "scrolled": true,
    "tags": []
   },
   "outputs": [
    {
     "data": {
      "text/plain": [
       "[<selenium.webdriver.remote.webelement.WebElement (session=\"3e15c7e7333b6de777197a46564113f5\", element=\"39d6f87f-275f-4912-a7fd-cdb99066a13e\")>,\n",
       " <selenium.webdriver.remote.webelement.WebElement (session=\"3e15c7e7333b6de777197a46564113f5\", element=\"ee27ae8f-830a-4c1c-baa6-4f5380741dbd\")>,\n",
       " <selenium.webdriver.remote.webelement.WebElement (session=\"3e15c7e7333b6de777197a46564113f5\", element=\"cf5d1dd6-87c8-4714-90ac-761d9567da0e\")>,\n",
       " <selenium.webdriver.remote.webelement.WebElement (session=\"3e15c7e7333b6de777197a46564113f5\", element=\"480664c6-c56c-45b1-8e82-178c4b9ab404\")>,\n",
       " <selenium.webdriver.remote.webelement.WebElement (session=\"3e15c7e7333b6de777197a46564113f5\", element=\"70ff9260-1f13-41ed-8b8f-3a762cf01c75\")>,\n",
       " <selenium.webdriver.remote.webelement.WebElement (session=\"3e15c7e7333b6de777197a46564113f5\", element=\"43c7beaf-aaa4-4ac4-935f-ac19bad5785f\")>,\n",
       " <selenium.webdriver.remote.webelement.WebElement (session=\"3e15c7e7333b6de777197a46564113f5\", element=\"9f5effcd-8849-4e5f-ace7-2f65b5639fbb\")>,\n",
       " <selenium.webdriver.remote.webelement.WebElement (session=\"3e15c7e7333b6de777197a46564113f5\", element=\"089f2e12-eba7-438d-b6c8-6b4ef54081d1\")>,\n",
       " <selenium.webdriver.remote.webelement.WebElement (session=\"3e15c7e7333b6de777197a46564113f5\", element=\"1b4b039d-d888-4bea-8db7-d568a0fe9146\")>,\n",
       " <selenium.webdriver.remote.webelement.WebElement (session=\"3e15c7e7333b6de777197a46564113f5\", element=\"b2ad4c74-2863-493e-859b-255920ffdd64\")>]"
      ]
     },
     "execution_count": 11,
     "metadata": {},
     "output_type": "execute_result"
    }
   ],
   "source": [
    "odkazy = driver.find_elements(By.CLASS_NAME, 'fullSizeLink')\n",
    "odkazy"
   ]
  },
  {
   "cell_type": "code",
   "execution_count": 12,
   "id": "8512f797-cbe0-49c1-8857-4b9f1ef0b84f",
   "metadata": {},
   "outputs": [
    {
     "data": {
      "text/plain": [
       "'https://www.aaaauto.cz/cz/skoda-karoq/car.html?id=502014742#'"
      ]
     },
     "execution_count": 12,
     "metadata": {},
     "output_type": "execute_result"
    }
   ],
   "source": [
    "odkazy[0].get_attribute('href')"
   ]
  },
  {
   "cell_type": "markdown",
   "id": "b69a559e-cf71-494b-944b-050f3f3d28cf",
   "metadata": {},
   "source": [
    "#### Transformace odkazů na první straně do listu"
   ]
  },
  {
   "cell_type": "code",
   "execution_count": 13,
   "id": "5e0e9af6-9d0c-4270-adf9-3db55316fc2d",
   "metadata": {},
   "outputs": [
    {
     "data": {
      "text/plain": [
       "10"
      ]
     },
     "execution_count": 13,
     "metadata": {},
     "output_type": "execute_result"
    }
   ],
   "source": [
    "urls = []\n",
    "for odkaz in odkazy:\n",
    "    url = odkaz.get_attribute('href')\n",
    "    urls.append(url)\n",
    "len(urls)"
   ]
  },
  {
   "cell_type": "code",
   "execution_count": 76,
   "id": "b89c9037-4551-48b1-94a9-271aba495095",
   "metadata": {
    "tags": []
   },
   "outputs": [
    {
     "data": {
      "text/plain": [
       "['https://www.aaaauto.cz/cz/skoda-karoq/car.html?id=502014742#',\n",
       " 'https://www.aaaauto.cz/cz/skoda-octavia/car.html?id=483692081#&promo=gm',\n",
       " 'https://www.aaaauto.cz/cz/skoda-octavia/car.html?id=489214916#&promo=gm',\n",
       " 'https://www.aaaauto.cz/cz/skoda-karoq/car.html?id=504615380#&promo=r',\n",
       " 'https://www.aaaauto.cz/cz/vw-passat/car.html?id=504883170#&promo=r',\n",
       " 'https://www.aaaauto.cz/cz/vw-golf/car.html?id=493294565#&promo=r']"
      ]
     },
     "execution_count": 76,
     "metadata": {},
     "output_type": "execute_result"
    }
   ],
   "source": [
    "urls[:6]"
   ]
  },
  {
   "cell_type": "markdown",
   "id": "6fda0a39-9782-48aa-b3d1-dbcebf581a1b",
   "metadata": {},
   "source": [
    "#### Extrakce nadpisů a odkazů ze všech (cca 1100) stran (na každé straně je 10 nabídek vozů)"
   ]
  },
  {
   "cell_type": "code",
   "execution_count": 16,
   "id": "41f7c0d5-d3d1-4ff0-b9f9-2ac864aecade",
   "metadata": {
    "tags": []
   },
   "outputs": [],
   "source": [
    "from selenium.common.exceptions import TimeoutException\n",
    "from selenium.webdriver.support.ui import WebDriverWait\n",
    "from selenium.webdriver.support import expected_conditions as EC\n",
    "\n",
    "\n",
    "titles_list = []\n",
    "urls_list = []\n",
    "\n",
    "while True:\n",
    "    try:\n",
    "        next_link = WebDriverWait(driver,4).until(EC.element_to_be_clickable((By.CSS_SELECTOR, \".svg-replaced.iconMin.colored.rotate180\")))\n",
    "        next_link.click()\n",
    "        time.sleep(4)\n",
    "        \n",
    "        # extrakce všech nadpisů\n",
    "        elementy_nadpisy = driver.find_elements(By.CLASS_NAME, 'primary.notranslate')\n",
    "        for element in elementy_nadpisy:\n",
    "            nadpis = element.text\n",
    "            titles_list.append(nadpis)\n",
    "        \n",
    "        # extrakce všech odkazů\n",
    "        elementy_odkazy = driver.find_elements(By.CLASS_NAME, 'fullSizeLink')\n",
    "        for element_odkaz in elementy_odkazy:\n",
    "            url = element_odkaz.get_attribute('href')\n",
    "            urls_list.append(url)\n",
    "        \n",
    "        \n",
    "    except TimeoutException:\n",
    "        break"
   ]
  },
  {
   "cell_type": "code",
   "execution_count": 29,
   "id": "9368990b-9b5b-48c0-a795-55dfa400b605",
   "metadata": {},
   "outputs": [
    {
     "data": {
      "text/plain": [
       "11424"
      ]
     },
     "execution_count": 29,
     "metadata": {},
     "output_type": "execute_result"
    }
   ],
   "source": [
    "len(urls_list)"
   ]
  },
  {
   "cell_type": "code",
   "execution_count": 30,
   "id": "90be2f90-a5ca-4926-b648-74d5de9725be",
   "metadata": {},
   "outputs": [
    {
     "data": {
      "text/plain": [
       "27187"
      ]
     },
     "execution_count": 30,
     "metadata": {},
     "output_type": "execute_result"
    }
   ],
   "source": [
    "len(titles_list)"
   ]
  },
  {
   "cell_type": "code",
   "execution_count": 31,
   "id": "a7ac6e0b-fc90-409f-b57d-6b6311d77a88",
   "metadata": {
    "tags": []
   },
   "outputs": [
    {
     "data": {
      "text/plain": [
       "27210"
      ]
     },
     "execution_count": 31,
     "metadata": {},
     "output_type": "execute_result"
    }
   ],
   "source": [
    "titles_complete = titles + titles_list\n",
    "len(titles_complete)"
   ]
  },
  {
   "cell_type": "code",
   "execution_count": 32,
   "id": "d9ccb797-caac-4fd4-bc4b-58d4277e6e37",
   "metadata": {
    "tags": []
   },
   "outputs": [
    {
     "data": {
      "text/plain": [
       "11434"
      ]
     },
     "execution_count": 32,
     "metadata": {},
     "output_type": "execute_result"
    }
   ],
   "source": [
    "urls_complete = urls + urls_list\n",
    "len(urls_complete)"
   ]
  },
  {
   "cell_type": "markdown",
   "id": "1060f5f3-75e8-4090-856f-cd5548fb7313",
   "metadata": {},
   "source": [
    "#### Očištění listu s nadpisy o nerelevantní položky"
   ]
  },
  {
   "cell_type": "code",
   "execution_count": 34,
   "id": "d232be4f-fe3e-4183-8a05-69a247a91570",
   "metadata": {
    "tags": []
   },
   "outputs": [
    {
     "data": {
      "text/plain": [
       "16010"
      ]
     },
     "execution_count": 34,
     "metadata": {},
     "output_type": "execute_result"
    }
   ],
   "source": [
    "smazat = \"Kč\"\n",
    "\n",
    "nadpisy_nabidek = [ x for x in titles_complete if smazat not in x ]\n",
    "len(nadpisy_nabidek)"
   ]
  },
  {
   "cell_type": "markdown",
   "id": "a0e52187-d09c-48bb-810f-3e491d11964a",
   "metadata": {},
   "source": [
    "#### Přeskočení doporučených vozů na každé stránce (ponechání prvních 10 a přeskočení dalších 4 nabídek)"
   ]
  },
  {
   "cell_type": "code",
   "execution_count": 35,
   "id": "b568a571-d0a4-4037-98ea-b1a3ad031184",
   "metadata": {
    "tags": []
   },
   "outputs": [
    {
     "data": {
      "text/plain": [
       "11438"
      ]
     },
     "execution_count": 35,
     "metadata": {},
     "output_type": "execute_result"
    }
   ],
   "source": [
    "nadpisy_nabidek = [x for i in range(0, len(nadpisy_nabidek), 14) for x in nadpisy_nabidek[i:i+10]]\n",
    "len(nadpisy_nabidek)"
   ]
  },
  {
   "cell_type": "code",
   "execution_count": 36,
   "id": "a4899633-97ea-4970-b15c-ff5251d28c9e",
   "metadata": {},
   "outputs": [
    {
     "data": {
      "text/plain": [
       "11434"
      ]
     },
     "execution_count": 36,
     "metadata": {},
     "output_type": "execute_result"
    }
   ],
   "source": [
    "nadpisy_nabidek = nadpisy_nabidek[:-4]\n",
    "len(nadpisy_nabidek)"
   ]
  },
  {
   "cell_type": "markdown",
   "id": "94f4d0e4-436a-4865-96e4-57150c995dc9",
   "metadata": {},
   "source": [
    "#### Vytvoření unikátního ID pro každou nabídku"
   ]
  },
  {
   "cell_type": "code",
   "execution_count": 45,
   "id": "bea6cb0a-5c4c-48d8-9e9c-8fd2b5593d40",
   "metadata": {},
   "outputs": [],
   "source": [
    "counter = 0\n",
    "new_list = []\n",
    "for each_item in nadpisy_nabidek:\n",
    "    new_list.append(each_item + \"_\" + str(counter))\n",
    "    counter += 1"
   ]
  },
  {
   "cell_type": "code",
   "execution_count": 51,
   "id": "9a5b563f-0415-4cf1-a4be-215f4d3e5099",
   "metadata": {},
   "outputs": [
    {
     "data": {
      "text/plain": [
       "11434"
      ]
     },
     "execution_count": 51,
     "metadata": {},
     "output_type": "execute_result"
    }
   ],
   "source": [
    "len(new_list)"
   ]
  },
  {
   "cell_type": "markdown",
   "id": "e3aa659e-a94a-4be8-9698-42db4229a6f5",
   "metadata": {},
   "source": [
    "#### Spojení listu nadpisů a listu odkazů do jedné dictionary"
   ]
  },
  {
   "cell_type": "code",
   "execution_count": 52,
   "id": "80aca57e-0f83-47bd-9b44-a2117988d0f6",
   "metadata": {},
   "outputs": [],
   "source": [
    "vysl = {new_list[i]: urls_complete[i] for i in range(len(new_list))}"
   ]
  },
  {
   "cell_type": "code",
   "execution_count": 54,
   "id": "70b358b9-4547-4d27-98c0-2d45f88c4792",
   "metadata": {},
   "outputs": [
    {
     "data": {
      "text/plain": [
       "11434"
      ]
     },
     "execution_count": 54,
     "metadata": {},
     "output_type": "execute_result"
    }
   ],
   "source": [
    "len(vysl)"
   ]
  },
  {
   "cell_type": "markdown",
   "id": "9c1b83f2-71eb-456a-846d-70f29ddd7d28",
   "metadata": {},
   "source": [
    "#### Vizuální kontrola, zda nadpisy a url souhlasí"
   ]
  },
  {
   "cell_type": "code",
   "execution_count": 395,
   "id": "2974080c-067f-40b5-8a52-4ff869ccd7b9",
   "metadata": {
    "tags": []
   },
   "outputs": [
    {
     "data": {
      "text/html": [
       "<div>\n",
       "<style scoped>\n",
       "    .dataframe tbody tr th:only-of-type {\n",
       "        vertical-align: middle;\n",
       "    }\n",
       "\n",
       "    .dataframe tbody tr th {\n",
       "        vertical-align: top;\n",
       "    }\n",
       "\n",
       "    .dataframe thead th {\n",
       "        text-align: right;\n",
       "    }\n",
       "</style>\n",
       "<table border=\"1\" class=\"dataframe\">\n",
       "  <thead>\n",
       "    <tr style=\"text-align: right;\">\n",
       "      <th></th>\n",
       "      <th>nadpis</th>\n",
       "      <th>url</th>\n",
       "    </tr>\n",
       "  </thead>\n",
       "  <tbody>\n",
       "    <tr>\n",
       "      <th>0</th>\n",
       "      <td>Škoda Karoq, 2021_0</td>\n",
       "      <td>https://www.aaaauto.cz/cz/skoda-karoq/car.html...</td>\n",
       "    </tr>\n",
       "    <tr>\n",
       "      <th>1</th>\n",
       "      <td>Škoda Octavia, 2021_1</td>\n",
       "      <td>https://www.aaaauto.cz/cz/skoda-octavia/car.ht...</td>\n",
       "    </tr>\n",
       "    <tr>\n",
       "      <th>2</th>\n",
       "      <td>Škoda Octavia, 2021_2</td>\n",
       "      <td>https://www.aaaauto.cz/cz/skoda-octavia/car.ht...</td>\n",
       "    </tr>\n",
       "    <tr>\n",
       "      <th>3</th>\n",
       "      <td>Škoda Karoq, 2020_3</td>\n",
       "      <td>https://www.aaaauto.cz/cz/skoda-karoq/car.html...</td>\n",
       "    </tr>\n",
       "    <tr>\n",
       "      <th>4</th>\n",
       "      <td>Volkswagen Passat, 2020_4</td>\n",
       "      <td>https://www.aaaauto.cz/cz/vw-passat/car.html?i...</td>\n",
       "    </tr>\n",
       "    <tr>\n",
       "      <th>...</th>\n",
       "      <td>...</td>\n",
       "      <td>...</td>\n",
       "    </tr>\n",
       "    <tr>\n",
       "      <th>11429</th>\n",
       "      <td>Volkswagen Golf Sportsvan, 2014_11429</td>\n",
       "      <td>https://www.aaaauto.cz/cz/vw-golf-sportsvan/ca...</td>\n",
       "    </tr>\n",
       "    <tr>\n",
       "      <th>11430</th>\n",
       "      <td>Škoda Octavia Scout, 2013_11430</td>\n",
       "      <td>https://www.aaaauto.cz/cz/skoda-octavia-scout/...</td>\n",
       "    </tr>\n",
       "    <tr>\n",
       "      <th>11431</th>\n",
       "      <td>Mercedes-Benz B 200 CDI, 2007_11431</td>\n",
       "      <td>https://www.aaaauto.cz/cz/mercedes-b/car.html?...</td>\n",
       "    </tr>\n",
       "    <tr>\n",
       "      <th>11432</th>\n",
       "      <td>Jeep Patriot, 2007_11432</td>\n",
       "      <td>https://www.aaaauto.cz/cz/jeep-patriot/car.htm...</td>\n",
       "    </tr>\n",
       "    <tr>\n",
       "      <th>11433</th>\n",
       "      <td>Seat Arosa, 2002_11433</td>\n",
       "      <td>https://www.aaaauto.cz/cz/seat-arosa/car.html?...</td>\n",
       "    </tr>\n",
       "  </tbody>\n",
       "</table>\n",
       "<p>11434 rows × 2 columns</p>\n",
       "</div>"
      ],
      "text/plain": [
       "                                      nadpis  \\\n",
       "0                        Škoda Karoq, 2021_0   \n",
       "1                      Škoda Octavia, 2021_1   \n",
       "2                      Škoda Octavia, 2021_2   \n",
       "3                        Škoda Karoq, 2020_3   \n",
       "4                  Volkswagen Passat, 2020_4   \n",
       "...                                      ...   \n",
       "11429  Volkswagen Golf Sportsvan, 2014_11429   \n",
       "11430        Škoda Octavia Scout, 2013_11430   \n",
       "11431    Mercedes-Benz B 200 CDI, 2007_11431   \n",
       "11432               Jeep Patriot, 2007_11432   \n",
       "11433                 Seat Arosa, 2002_11433   \n",
       "\n",
       "                                                     url  \n",
       "0      https://www.aaaauto.cz/cz/skoda-karoq/car.html...  \n",
       "1      https://www.aaaauto.cz/cz/skoda-octavia/car.ht...  \n",
       "2      https://www.aaaauto.cz/cz/skoda-octavia/car.ht...  \n",
       "3      https://www.aaaauto.cz/cz/skoda-karoq/car.html...  \n",
       "4      https://www.aaaauto.cz/cz/vw-passat/car.html?i...  \n",
       "...                                                  ...  \n",
       "11429  https://www.aaaauto.cz/cz/vw-golf-sportsvan/ca...  \n",
       "11430  https://www.aaaauto.cz/cz/skoda-octavia-scout/...  \n",
       "11431  https://www.aaaauto.cz/cz/mercedes-b/car.html?...  \n",
       "11432  https://www.aaaauto.cz/cz/jeep-patriot/car.htm...  \n",
       "11433  https://www.aaaauto.cz/cz/seat-arosa/car.html?...  \n",
       "\n",
       "[11434 rows x 2 columns]"
      ]
     },
     "execution_count": 395,
     "metadata": {},
     "output_type": "execute_result"
    }
   ],
   "source": [
    "df = pd.DataFrame(vysl.items(), columns=['nadpis','url'])\n",
    "df"
   ]
  },
  {
   "cell_type": "code",
   "execution_count": 56,
   "id": "9a717777-13e0-4bd2-80c0-bec85c6b9776",
   "metadata": {
    "scrolled": true
   },
   "outputs": [
    {
     "data": {
      "text/plain": [
       "[{'nadpis': 'Škoda Karoq, 2021_0',\n",
       "  'url': 'https://www.aaaauto.cz/cz/skoda-karoq/car.html?id=502014742#'},\n",
       " {'nadpis': 'Škoda Octavia, 2021_1',\n",
       "  'url': 'https://www.aaaauto.cz/cz/skoda-octavia/car.html?id=483692081#&promo=gm'},\n",
       " {'nadpis': 'Škoda Octavia, 2021_2',\n",
       "  'url': 'https://www.aaaauto.cz/cz/skoda-octavia/car.html?id=489214916#&promo=gm'},\n",
       " {'nadpis': 'Škoda Karoq, 2020_3',\n",
       "  'url': 'https://www.aaaauto.cz/cz/skoda-karoq/car.html?id=504615380#&promo=r'},\n",
       " {'nadpis': 'Volkswagen Passat, 2020_4',\n",
       "  'url': 'https://www.aaaauto.cz/cz/vw-passat/car.html?id=504883170#&promo=r'},\n",
       " {'nadpis': 'Volkswagen Golf, 2020_5',\n",
       "  'url': 'https://www.aaaauto.cz/cz/vw-golf/car.html?id=493294565#&promo=r'},\n",
       " {'nadpis': 'Škoda Scala, 2021_6',\n",
       "  'url': 'https://www.aaaauto.cz/cz/skoda-scala/car.html?id=499163818#'}]"
      ]
     },
     "execution_count": 56,
     "metadata": {},
     "output_type": "execute_result"
    }
   ],
   "source": [
    "new_dict = df.to_dict('records')\n",
    "new_dict[:7]"
   ]
  },
  {
   "cell_type": "markdown",
   "id": "8e006ec1-19d1-49e8-94e0-f7abde3c862c",
   "metadata": {},
   "source": [
    "#### Extrakce ceny a detailních informací o každém vozidle z url každé individuální nabídky"
   ]
  },
  {
   "cell_type": "code",
   "execution_count": 5,
   "id": "456f4a3f",
   "metadata": {},
   "outputs": [],
   "source": [
    "info_list = []\n",
    "\n",
    "for element in new_dict:\n",
    "    # rozkliknutí url nabídky \n",
    "    driver.get(element['url'])\n",
    "    \n",
    "    ceny = driver.find_elements(By.XPATH, \"//*[@class='infoBoxNavTitle' or @class='notranslate']\")\n",
    "    for cena in ceny:\n",
    "        info_list.append({'auto': element['nadpis'], 'cena': cena.text})\n",
    "    \n",
    "    informace = driver.find_elements(By.CLASS_NAME, 'transparentTable')\n",
    "    for info in informace:\n",
    "        info_list.append({'auto': element['nadpis'], 'info': info.text})\n"
   ]
  },
  {
   "cell_type": "markdown",
   "id": "560613bd-cf71-4865-93e4-88f1281f72d1",
   "metadata": {},
   "source": [
    "#### Webscraping přerušen\n",
    "#### Vzhledem k časové náročnosti webscrapingu (cca 12 hod) for loop přerušen po několika hodinách, z celkových 11438 nabízek vozů je k dispozici vzorek 2939 nabídek vozů"
   ]
  },
  {
   "cell_type": "code",
   "execution_count": 93,
   "id": "ac1fd0fb-d484-4918-adfd-9bddb2b1cb67",
   "metadata": {},
   "outputs": [
    {
     "data": {
      "text/plain": [
       "62637"
      ]
     },
     "execution_count": 93,
     "metadata": {},
     "output_type": "execute_result"
    }
   ],
   "source": [
    "len(info_list)"
   ]
  },
  {
   "cell_type": "markdown",
   "id": "c06af192-6d10-4e5b-a8b0-eee1a7c54425",
   "metadata": {},
   "source": [
    "#### Smazání prázdných hodnot v dictionary"
   ]
  },
  {
   "cell_type": "code",
   "execution_count": 96,
   "id": "6c7de201-c06e-4d64-8bb8-a071420129b6",
   "metadata": {},
   "outputs": [],
   "source": [
    "info_list_bez_prazdnych = [ele for ele in ({key: val for key, val in sub.items() if val} for sub in info_list) if ele]"
   ]
  },
  {
   "cell_type": "code",
   "execution_count": 98,
   "id": "6d5bb23f-41cf-4dc4-a976-6e58cf9a12b1",
   "metadata": {},
   "outputs": [
    {
     "data": {
      "text/plain": [
       "62637"
      ]
     },
     "execution_count": 98,
     "metadata": {},
     "output_type": "execute_result"
    }
   ],
   "source": [
    "len(info_list_bez_prazdnych)"
   ]
  },
  {
   "cell_type": "markdown",
   "id": "1a8e732c-06ee-4323-b211-47d08e61789c",
   "metadata": {},
   "source": [
    "#### Tvorba dataframu"
   ]
  },
  {
   "cell_type": "code",
   "execution_count": 695,
   "id": "8e5b98bd-98c9-452a-8885-cb0c85c624e8",
   "metadata": {
    "tags": []
   },
   "outputs": [
    {
     "data": {
      "text/html": [
       "<div>\n",
       "<style scoped>\n",
       "    .dataframe tbody tr th:only-of-type {\n",
       "        vertical-align: middle;\n",
       "    }\n",
       "\n",
       "    .dataframe tbody tr th {\n",
       "        vertical-align: top;\n",
       "    }\n",
       "\n",
       "    .dataframe thead th {\n",
       "        text-align: right;\n",
       "    }\n",
       "</style>\n",
       "<table border=\"1\" class=\"dataframe\">\n",
       "  <thead>\n",
       "    <tr style=\"text-align: right;\">\n",
       "      <th></th>\n",
       "      <th>auto</th>\n",
       "      <th>cena</th>\n",
       "      <th>info</th>\n",
       "    </tr>\n",
       "  </thead>\n",
       "  <tbody>\n",
       "    <tr>\n",
       "      <th>0</th>\n",
       "      <td>Škoda Karoq, 2021_0</td>\n",
       "      <td>Škoda</td>\n",
       "      <td>NaN</td>\n",
       "    </tr>\n",
       "    <tr>\n",
       "      <th>1</th>\n",
       "      <td>Škoda Karoq, 2021_0</td>\n",
       "      <td>Škoda Karoq</td>\n",
       "      <td>NaN</td>\n",
       "    </tr>\n",
       "    <tr>\n",
       "      <th>2</th>\n",
       "      <td>Škoda Karoq, 2021_0</td>\n",
       "      <td>Cena\\n880 000 Kč</td>\n",
       "      <td>NaN</td>\n",
       "    </tr>\n",
       "    <tr>\n",
       "      <th>3</th>\n",
       "      <td>Škoda Karoq, 2021_0</td>\n",
       "      <td>152 727 Kč</td>\n",
       "      <td>NaN</td>\n",
       "    </tr>\n",
       "    <tr>\n",
       "      <th>4</th>\n",
       "      <td>Škoda Karoq, 2021_0</td>\n",
       "      <td>NaN</td>\n",
       "      <td>NaN</td>\n",
       "    </tr>\n",
       "  </tbody>\n",
       "</table>\n",
       "</div>"
      ],
      "text/plain": [
       "                  auto              cena info\n",
       "0  Škoda Karoq, 2021_0             Škoda  NaN\n",
       "1  Škoda Karoq, 2021_0       Škoda Karoq  NaN\n",
       "2  Škoda Karoq, 2021_0  Cena\\n880 000 Kč  NaN\n",
       "3  Škoda Karoq, 2021_0        152 727 Kč  NaN\n",
       "4  Škoda Karoq, 2021_0               NaN  NaN"
      ]
     },
     "execution_count": 695,
     "metadata": {},
     "output_type": "execute_result"
    }
   ],
   "source": [
    "df_auta = pd.DataFrame(info_list_bez_prazdnych)\n",
    "df_auta.head()"
   ]
  },
  {
   "cell_type": "markdown",
   "id": "fdd1fa9c-e0c1-4ffe-b442-deabbdb03179",
   "metadata": {},
   "source": [
    "#### Počet stažených nabídek"
   ]
  },
  {
   "cell_type": "code",
   "execution_count": 696,
   "id": "df137bec-b6d8-400f-8a15-c628cda5449e",
   "metadata": {},
   "outputs": [
    {
     "data": {
      "text/plain": [
       "2939"
      ]
     },
     "execution_count": 696,
     "metadata": {},
     "output_type": "execute_result"
    }
   ],
   "source": [
    "df_auta['auto'].nunique()"
   ]
  },
  {
   "cell_type": "markdown",
   "id": "4936297e-da73-455d-a761-921d8418b887",
   "metadata": {},
   "source": [
    "#### Export raw scraped dat do csv"
   ]
  },
  {
   "cell_type": "code",
   "execution_count": 697,
   "id": "9c394e82-6337-4fa1-91bc-67be01a48b1d",
   "metadata": {},
   "outputs": [],
   "source": [
    "df_auta.to_csv('auta_scraped.csv',encoding='utf-8-sig')"
   ]
  },
  {
   "cell_type": "markdown",
   "id": "43d215d7-d7d8-44f9-82aa-00e08d1141a6",
   "metadata": {},
   "source": [
    "## Část 2 - Čištění dat"
   ]
  },
  {
   "cell_type": "code",
   "execution_count": 128,
   "id": "b86700b0-a1b9-483c-b1fa-89a2a8d18b2c",
   "metadata": {},
   "outputs": [],
   "source": [
    "import re"
   ]
  },
  {
   "cell_type": "code",
   "execution_count": 835,
   "id": "b5eca086-5fc6-4f64-94e9-f36768de2ebd",
   "metadata": {},
   "outputs": [],
   "source": [
    "df_auta = pd.read_csv('auta_scraped.csv',usecols=['auto', 'cena','info'])"
   ]
  },
  {
   "cell_type": "code",
   "execution_count": 843,
   "id": "312f9f65-35e8-4c1e-a0e9-0dba72677eea",
   "metadata": {},
   "outputs": [
    {
     "data": {
      "text/html": [
       "<div>\n",
       "<style scoped>\n",
       "    .dataframe tbody tr th:only-of-type {\n",
       "        vertical-align: middle;\n",
       "    }\n",
       "\n",
       "    .dataframe tbody tr th {\n",
       "        vertical-align: top;\n",
       "    }\n",
       "\n",
       "    .dataframe thead th {\n",
       "        text-align: right;\n",
       "    }\n",
       "</style>\n",
       "<table border=\"1\" class=\"dataframe\">\n",
       "  <thead>\n",
       "    <tr style=\"text-align: right;\">\n",
       "      <th></th>\n",
       "      <th>auto</th>\n",
       "      <th>cena</th>\n",
       "      <th>info</th>\n",
       "    </tr>\n",
       "  </thead>\n",
       "  <tbody>\n",
       "    <tr>\n",
       "      <th>0</th>\n",
       "      <td>Škoda Karoq, 2021_0</td>\n",
       "      <td>Škoda</td>\n",
       "      <td>NaN</td>\n",
       "    </tr>\n",
       "    <tr>\n",
       "      <th>1</th>\n",
       "      <td>Škoda Karoq, 2021_0</td>\n",
       "      <td>Škoda Karoq</td>\n",
       "      <td>NaN</td>\n",
       "    </tr>\n",
       "    <tr>\n",
       "      <th>2</th>\n",
       "      <td>Škoda Karoq, 2021_0</td>\n",
       "      <td>Cena\\n880 000 Kč</td>\n",
       "      <td>NaN</td>\n",
       "    </tr>\n",
       "    <tr>\n",
       "      <th>3</th>\n",
       "      <td>Škoda Karoq, 2021_0</td>\n",
       "      <td>152 727 Kč</td>\n",
       "      <td>NaN</td>\n",
       "    </tr>\n",
       "    <tr>\n",
       "      <th>4</th>\n",
       "      <td>Škoda Karoq, 2021_0</td>\n",
       "      <td>NaN</td>\n",
       "      <td>NaN</td>\n",
       "    </tr>\n",
       "    <tr>\n",
       "      <th>...</th>\n",
       "      <td>...</td>\n",
       "      <td>...</td>\n",
       "      <td>...</td>\n",
       "    </tr>\n",
       "    <tr>\n",
       "      <th>7</th>\n",
       "      <td>Škoda Karoq, 2021_0</td>\n",
       "      <td>NaN</td>\n",
       "      <td>NaN</td>\n",
       "    </tr>\n",
       "    <tr>\n",
       "      <th>8</th>\n",
       "      <td>Škoda Karoq, 2021_0</td>\n",
       "      <td>NaN</td>\n",
       "      <td>NaN</td>\n",
       "    </tr>\n",
       "    <tr>\n",
       "      <th>9</th>\n",
       "      <td>Škoda Karoq, 2021_0</td>\n",
       "      <td>NaN</td>\n",
       "      <td>NaN</td>\n",
       "    </tr>\n",
       "    <tr>\n",
       "      <th>10</th>\n",
       "      <td>Škoda Karoq, 2021_0</td>\n",
       "      <td>NaN</td>\n",
       "      <td>Rok uvedení do provozu 2021\\nTachometr 38 188 ...</td>\n",
       "    </tr>\n",
       "    <tr>\n",
       "      <th>11</th>\n",
       "      <td>Škoda Karoq, 2021_0</td>\n",
       "      <td>NaN</td>\n",
       "      <td>Karoserie SUV\\nPalivo Diesel\\nMíst k sezení 5 ...</td>\n",
       "    </tr>\n",
       "  </tbody>\n",
       "</table>\n",
       "<p>12 rows × 3 columns</p>\n",
       "</div>"
      ],
      "text/plain": [
       "                   auto              cena  \\\n",
       "0   Škoda Karoq, 2021_0             Škoda   \n",
       "1   Škoda Karoq, 2021_0       Škoda Karoq   \n",
       "2   Škoda Karoq, 2021_0  Cena\\n880 000 Kč   \n",
       "3   Škoda Karoq, 2021_0        152 727 Kč   \n",
       "4   Škoda Karoq, 2021_0               NaN   \n",
       "..                  ...               ...   \n",
       "7   Škoda Karoq, 2021_0               NaN   \n",
       "8   Škoda Karoq, 2021_0               NaN   \n",
       "9   Škoda Karoq, 2021_0               NaN   \n",
       "10  Škoda Karoq, 2021_0               NaN   \n",
       "11  Škoda Karoq, 2021_0               NaN   \n",
       "\n",
       "                                                 info  \n",
       "0                                                 NaN  \n",
       "1                                                 NaN  \n",
       "2                                                 NaN  \n",
       "3                                                 NaN  \n",
       "4                                                 NaN  \n",
       "..                                                ...  \n",
       "7                                                 NaN  \n",
       "8                                                 NaN  \n",
       "9                                                 NaN  \n",
       "10  Rok uvedení do provozu 2021\\nTachometr 38 188 ...  \n",
       "11  Karoserie SUV\\nPalivo Diesel\\nMíst k sezení 5 ...  \n",
       "\n",
       "[12 rows x 3 columns]"
      ]
     },
     "execution_count": 843,
     "metadata": {},
     "output_type": "execute_result"
    }
   ],
   "source": [
    "df_auta[:12]"
   ]
  },
  {
   "cell_type": "code",
   "execution_count": 844,
   "id": "6dd0197d-4ac5-42ac-bd34-05680135deba",
   "metadata": {},
   "outputs": [
    {
     "name": "stdout",
     "output_type": "stream",
     "text": [
      "Rok uvedení do provozu 2021\n",
      "Tachometr 38 188 km\n",
      "Motor 2.0 TDI, 110kW, 4x4\n",
      "Převodovka Automat / 7 stupňů\n",
      "Barva modrá-metalíza\n",
      "Stupeň výbavy Style Plus\n",
      "STK 04/2025\n",
      "Karoserie SUV\n",
      "Palivo Diesel\n",
      "Míst k sezení 5 míst\n",
      "Emisní norma EURO6\n",
      "Emise CO₂ 156 g/km\n",
      "Historie Elektronická servisní knížka, Koupeno nové v ČR\n"
     ]
    }
   ],
   "source": [
    "# text převést do sloupců: Rok, Tachometr, Motor, Převodovka, Barva, Karoserie, Palivo\n",
    "\n",
    "print(df_auta['info'][10])\n",
    "print(df_auta['info'][11])"
   ]
  },
  {
   "cell_type": "code",
   "execution_count": 845,
   "id": "7a75c362-2997-4159-a00b-65838d475240",
   "metadata": {},
   "outputs": [
    {
     "data": {
      "text/plain": [
       "(62637, 3)"
      ]
     },
     "execution_count": 845,
     "metadata": {},
     "output_type": "execute_result"
    }
   ],
   "source": [
    "df_auta.shape"
   ]
  },
  {
   "cell_type": "code",
   "execution_count": 846,
   "id": "71d9d73a-afd9-4c9e-b540-c38c7c21cf2d",
   "metadata": {},
   "outputs": [],
   "source": [
    "df_auta_beznan = df_auta.dropna(subset=['cena','info'],how='all').reset_index(drop=True)"
   ]
  },
  {
   "cell_type": "code",
   "execution_count": 847,
   "id": "b34e8730-3863-4b9c-8b99-6f5cc90418e5",
   "metadata": {},
   "outputs": [
    {
     "data": {
      "text/plain": [
       "(24969, 3)"
      ]
     },
     "execution_count": 847,
     "metadata": {},
     "output_type": "execute_result"
    }
   ],
   "source": [
    "df_auta_beznan.shape"
   ]
  },
  {
   "cell_type": "code",
   "execution_count": 848,
   "id": "8f3ec8cd-c027-4864-bcf0-fe2ae3ff1c37",
   "metadata": {},
   "outputs": [
    {
     "data": {
      "text/html": [
       "<div>\n",
       "<style scoped>\n",
       "    .dataframe tbody tr th:only-of-type {\n",
       "        vertical-align: middle;\n",
       "    }\n",
       "\n",
       "    .dataframe tbody tr th {\n",
       "        vertical-align: top;\n",
       "    }\n",
       "\n",
       "    .dataframe thead th {\n",
       "        text-align: right;\n",
       "    }\n",
       "</style>\n",
       "<table border=\"1\" class=\"dataframe\">\n",
       "  <thead>\n",
       "    <tr style=\"text-align: right;\">\n",
       "      <th></th>\n",
       "      <th>auto</th>\n",
       "      <th>cena</th>\n",
       "      <th>info</th>\n",
       "    </tr>\n",
       "  </thead>\n",
       "  <tbody>\n",
       "    <tr>\n",
       "      <th>0</th>\n",
       "      <td>Škoda Karoq, 2021_0</td>\n",
       "      <td>Škoda</td>\n",
       "      <td>NaN</td>\n",
       "    </tr>\n",
       "    <tr>\n",
       "      <th>1</th>\n",
       "      <td>Škoda Karoq, 2021_0</td>\n",
       "      <td>Škoda Karoq</td>\n",
       "      <td>NaN</td>\n",
       "    </tr>\n",
       "    <tr>\n",
       "      <th>2</th>\n",
       "      <td>Škoda Karoq, 2021_0</td>\n",
       "      <td>Cena\\n880 000 Kč</td>\n",
       "      <td>NaN</td>\n",
       "    </tr>\n",
       "    <tr>\n",
       "      <th>3</th>\n",
       "      <td>Škoda Karoq, 2021_0</td>\n",
       "      <td>152 727 Kč</td>\n",
       "      <td>NaN</td>\n",
       "    </tr>\n",
       "    <tr>\n",
       "      <th>4</th>\n",
       "      <td>Škoda Karoq, 2021_0</td>\n",
       "      <td>NaN</td>\n",
       "      <td>Rok uvedení do provozu 2021\\nTachometr 38 188 ...</td>\n",
       "    </tr>\n",
       "    <tr>\n",
       "      <th>5</th>\n",
       "      <td>Škoda Karoq, 2021_0</td>\n",
       "      <td>NaN</td>\n",
       "      <td>Karoserie SUV\\nPalivo Diesel\\nMíst k sezení 5 ...</td>\n",
       "    </tr>\n",
       "    <tr>\n",
       "      <th>6</th>\n",
       "      <td>Škoda Octavia, 2021_1</td>\n",
       "      <td>Škoda</td>\n",
       "      <td>NaN</td>\n",
       "    </tr>\n",
       "    <tr>\n",
       "      <th>7</th>\n",
       "      <td>Škoda Octavia, 2021_1</td>\n",
       "      <td>Škoda Octavia</td>\n",
       "      <td>NaN</td>\n",
       "    </tr>\n",
       "    <tr>\n",
       "      <th>8</th>\n",
       "      <td>Škoda Octavia, 2021_1</td>\n",
       "      <td>Cena\\n830 000 Kč\\n760 000 Kč</td>\n",
       "      <td>NaN</td>\n",
       "    </tr>\n",
       "    <tr>\n",
       "      <th>9</th>\n",
       "      <td>Škoda Octavia, 2021_1</td>\n",
       "      <td>830 000 Kč\\n760 000 Kč</td>\n",
       "      <td>NaN</td>\n",
       "    </tr>\n",
       "  </tbody>\n",
       "</table>\n",
       "</div>"
      ],
      "text/plain": [
       "                    auto                          cena  \\\n",
       "0    Škoda Karoq, 2021_0                         Škoda   \n",
       "1    Škoda Karoq, 2021_0                   Škoda Karoq   \n",
       "2    Škoda Karoq, 2021_0              Cena\\n880 000 Kč   \n",
       "3    Škoda Karoq, 2021_0                    152 727 Kč   \n",
       "4    Škoda Karoq, 2021_0                           NaN   \n",
       "5    Škoda Karoq, 2021_0                           NaN   \n",
       "6  Škoda Octavia, 2021_1                         Škoda   \n",
       "7  Škoda Octavia, 2021_1                 Škoda Octavia   \n",
       "8  Škoda Octavia, 2021_1  Cena\\n830 000 Kč\\n760 000 Kč   \n",
       "9  Škoda Octavia, 2021_1        830 000 Kč\\n760 000 Kč   \n",
       "\n",
       "                                                info  \n",
       "0                                                NaN  \n",
       "1                                                NaN  \n",
       "2                                                NaN  \n",
       "3                                                NaN  \n",
       "4  Rok uvedení do provozu 2021\\nTachometr 38 188 ...  \n",
       "5  Karoserie SUV\\nPalivo Diesel\\nMíst k sezení 5 ...  \n",
       "6                                                NaN  \n",
       "7                                                NaN  \n",
       "8                                                NaN  \n",
       "9                                                NaN  "
      ]
     },
     "execution_count": 848,
     "metadata": {},
     "output_type": "execute_result"
    }
   ],
   "source": [
    "df_auta_beznan.head(10)"
   ]
  },
  {
   "cell_type": "code",
   "execution_count": 849,
   "id": "d91070f6-44e2-4dc4-a3e7-d7c601533b5f",
   "metadata": {},
   "outputs": [],
   "source": [
    "df_auto_cena = df_auta_beznan[['auto','cena']]"
   ]
  },
  {
   "cell_type": "code",
   "execution_count": 850,
   "id": "7ebe2785-c84f-4bc3-ab2b-8b2a5e874bcc",
   "metadata": {
    "tags": []
   },
   "outputs": [],
   "source": [
    "df_auto_cena['cumcount'] = df_auto_cena.groupby(['auto']).cumcount()+1"
   ]
  },
  {
   "cell_type": "code",
   "execution_count": 851,
   "id": "738aa37a-ca75-431e-b4c1-33d8845d0ac7",
   "metadata": {},
   "outputs": [],
   "source": [
    "df_auto_cena = df_auto_cena.pivot(index='auto',columns='cumcount',values='cena').reset_index()"
   ]
  },
  {
   "cell_type": "markdown",
   "id": "c154b049-b7ec-4a1a-8068-83aef9abd122",
   "metadata": {},
   "source": [
    "#### Je zde 5 různých sloupců s cenami - vybrání té správné ceny u dané nabídky na základě různých podmínek"
   ]
  },
  {
   "cell_type": "code",
   "execution_count": 852,
   "id": "8ec7d9b6-ce80-44db-afe6-fe599b0fad3f",
   "metadata": {},
   "outputs": [],
   "source": [
    "word = \"Cena\"\n",
    "df_auto_cena['cont_1'] = df_auto_cena[3].str.contains(word)"
   ]
  },
  {
   "cell_type": "code",
   "execution_count": 853,
   "id": "707db006-4903-46e0-84f7-68d06b3abfb3",
   "metadata": {},
   "outputs": [],
   "source": [
    "df_auto_cena['spravna_cena'] = df_auto_cena.apply(lambda x: x[3] if x['cont_1']==True else x[4], axis=1)"
   ]
  },
  {
   "cell_type": "code",
   "execution_count": 854,
   "id": "b9b0baf7-d61f-4632-b159-5023a21cb06c",
   "metadata": {},
   "outputs": [],
   "source": [
    "df_auto_cena = df_auto_cena[['auto',1,2,'spravna_cena']].rename(columns = {'auto':'id', 1:'znacka',2:'model','spravna_cena':'cena'})"
   ]
  },
  {
   "cell_type": "code",
   "execution_count": 855,
   "id": "d152c270-53e4-44cb-9ec2-823da96136f0",
   "metadata": {
    "tags": []
   },
   "outputs": [],
   "source": [
    "ceny = df_auto_cena['cena'].str.split(pat=\"\\n\", expand=True)"
   ]
  },
  {
   "cell_type": "code",
   "execution_count": 856,
   "id": "018433b7-c201-4b74-83c3-41ea3f0d1b89",
   "metadata": {
    "tags": []
   },
   "outputs": [],
   "source": [
    "slovo1=\"Cena\"\n",
    "cena = ceny.apply(lambda x: x[0] if x[0] != slovo1 else (x[2] if x[2] != None else x[1]), axis=1)"
   ]
  },
  {
   "cell_type": "code",
   "execution_count": 857,
   "id": "f378c81f-f828-4aa8-a736-33af9214168e",
   "metadata": {},
   "outputs": [],
   "source": [
    "df_auto_cena['cena'] = cena"
   ]
  },
  {
   "cell_type": "code",
   "execution_count": 858,
   "id": "4d4c99d7-9089-4306-9c9b-7a43c20ebb99",
   "metadata": {},
   "outputs": [
    {
     "data": {
      "text/html": [
       "<div>\n",
       "<style scoped>\n",
       "    .dataframe tbody tr th:only-of-type {\n",
       "        vertical-align: middle;\n",
       "    }\n",
       "\n",
       "    .dataframe tbody tr th {\n",
       "        vertical-align: top;\n",
       "    }\n",
       "\n",
       "    .dataframe thead th {\n",
       "        text-align: right;\n",
       "    }\n",
       "</style>\n",
       "<table border=\"1\" class=\"dataframe\">\n",
       "  <thead>\n",
       "    <tr style=\"text-align: right;\">\n",
       "      <th>cumcount</th>\n",
       "      <th>id</th>\n",
       "      <th>znacka</th>\n",
       "      <th>model</th>\n",
       "      <th>cena</th>\n",
       "    </tr>\n",
       "  </thead>\n",
       "  <tbody>\n",
       "    <tr>\n",
       "      <th>0</th>\n",
       "      <td>Alfa Romeo 159, 2007_371</td>\n",
       "      <td>Alfa Romeo</td>\n",
       "      <td>Alfa Romeo 159</td>\n",
       "      <td>74 000 Kč</td>\n",
       "    </tr>\n",
       "    <tr>\n",
       "      <th>1</th>\n",
       "      <td>Alfa Romeo 159, 2008_1894</td>\n",
       "      <td>Alfa Romeo</td>\n",
       "      <td>Alfa Romeo 159</td>\n",
       "      <td>106 000 Kč</td>\n",
       "    </tr>\n",
       "    <tr>\n",
       "      <th>2</th>\n",
       "      <td>Alfa Romeo Giulietta, 2018_2882</td>\n",
       "      <td>Alfa Romeo</td>\n",
       "      <td>Alfa Romeo Giulietta</td>\n",
       "      <td>311 000 Kč</td>\n",
       "    </tr>\n",
       "    <tr>\n",
       "      <th>3</th>\n",
       "      <td>Audi A3, 2009_2688</td>\n",
       "      <td>Audi</td>\n",
       "      <td>Audi A3</td>\n",
       "      <td>180 000 Kč</td>\n",
       "    </tr>\n",
       "    <tr>\n",
       "      <th>4</th>\n",
       "      <td>Audi A3, 2009_2765</td>\n",
       "      <td>Audi</td>\n",
       "      <td>Audi A3</td>\n",
       "      <td>200 000 Kč</td>\n",
       "    </tr>\n",
       "  </tbody>\n",
       "</table>\n",
       "</div>"
      ],
      "text/plain": [
       "cumcount                               id      znacka                 model  \\\n",
       "0                Alfa Romeo 159, 2007_371  Alfa Romeo        Alfa Romeo 159   \n",
       "1               Alfa Romeo 159, 2008_1894  Alfa Romeo        Alfa Romeo 159   \n",
       "2         Alfa Romeo Giulietta, 2018_2882  Alfa Romeo  Alfa Romeo Giulietta   \n",
       "3                      Audi A3, 2009_2688        Audi               Audi A3   \n",
       "4                      Audi A3, 2009_2765        Audi               Audi A3   \n",
       "\n",
       "cumcount        cena  \n",
       "0          74 000 Kč  \n",
       "1         106 000 Kč  \n",
       "2         311 000 Kč  \n",
       "3         180 000 Kč  \n",
       "4         200 000 Kč  "
      ]
     },
     "execution_count": 858,
     "metadata": {},
     "output_type": "execute_result"
    }
   ],
   "source": [
    "df_auto_cena.head()"
   ]
  },
  {
   "cell_type": "code",
   "execution_count": 859,
   "id": "ef16afb2-7a52-4798-9fe3-1e3074e1c73e",
   "metadata": {},
   "outputs": [
    {
     "name": "stdout",
     "output_type": "stream",
     "text": [
      "<class 'pandas.core.frame.DataFrame'>\n",
      "RangeIndex: 2939 entries, 0 to 2938\n",
      "Data columns (total 4 columns):\n",
      " #   Column  Non-Null Count  Dtype \n",
      "---  ------  --------------  ----- \n",
      " 0   id      2939 non-null   object\n",
      " 1   znacka  2939 non-null   object\n",
      " 2   model   2939 non-null   object\n",
      " 3   cena    2939 non-null   object\n",
      "dtypes: object(4)\n",
      "memory usage: 92.0+ KB\n"
     ]
    }
   ],
   "source": [
    "df_auto_cena.info()"
   ]
  },
  {
   "cell_type": "markdown",
   "id": "a5202d26-4631-485a-9c20-787f2b83e964",
   "metadata": {},
   "source": [
    "#### Úprava informací"
   ]
  },
  {
   "cell_type": "code",
   "execution_count": 860,
   "id": "650c0140-7959-4f6d-8125-2745e983418a",
   "metadata": {},
   "outputs": [],
   "source": [
    "df_info = df_auta[['auto','info']]"
   ]
  },
  {
   "cell_type": "code",
   "execution_count": 861,
   "id": "c9d4d2cc-611d-4d1e-a698-dc810827578d",
   "metadata": {},
   "outputs": [],
   "source": [
    "df_info_beznan = df_info.dropna(subset=['info'],how='all').reset_index(drop=True)"
   ]
  },
  {
   "cell_type": "code",
   "execution_count": 862,
   "id": "630f5322-e37b-41f3-ad10-d1c436c3b76b",
   "metadata": {},
   "outputs": [
    {
     "data": {
      "text/html": [
       "<div>\n",
       "<style scoped>\n",
       "    .dataframe tbody tr th:only-of-type {\n",
       "        vertical-align: middle;\n",
       "    }\n",
       "\n",
       "    .dataframe tbody tr th {\n",
       "        vertical-align: top;\n",
       "    }\n",
       "\n",
       "    .dataframe thead th {\n",
       "        text-align: right;\n",
       "    }\n",
       "</style>\n",
       "<table border=\"1\" class=\"dataframe\">\n",
       "  <thead>\n",
       "    <tr style=\"text-align: right;\">\n",
       "      <th></th>\n",
       "      <th>auto</th>\n",
       "      <th>info</th>\n",
       "    </tr>\n",
       "  </thead>\n",
       "  <tbody>\n",
       "    <tr>\n",
       "      <th>0</th>\n",
       "      <td>Škoda Karoq, 2021_0</td>\n",
       "      <td>Rok uvedení do provozu 2021\\nTachometr 38 188 ...</td>\n",
       "    </tr>\n",
       "    <tr>\n",
       "      <th>1</th>\n",
       "      <td>Škoda Karoq, 2021_0</td>\n",
       "      <td>Karoserie SUV\\nPalivo Diesel\\nMíst k sezení 5 ...</td>\n",
       "    </tr>\n",
       "    <tr>\n",
       "      <th>2</th>\n",
       "      <td>Škoda Octavia, 2021_1</td>\n",
       "      <td>Rok uvedení do provozu 2021\\nTachometr 19 997 ...</td>\n",
       "    </tr>\n",
       "    <tr>\n",
       "      <th>3</th>\n",
       "      <td>Škoda Octavia, 2021_1</td>\n",
       "      <td>Karoserie Hatchback\\nPalivo Benzín\\nMíst k sez...</td>\n",
       "    </tr>\n",
       "    <tr>\n",
       "      <th>4</th>\n",
       "      <td>Škoda Octavia, 2021_2</td>\n",
       "      <td>Rok uvedení do provozu 2021\\nTachometr 21 467 ...</td>\n",
       "    </tr>\n",
       "    <tr>\n",
       "      <th>...</th>\n",
       "      <td>...</td>\n",
       "      <td>...</td>\n",
       "    </tr>\n",
       "    <tr>\n",
       "      <th>6083</th>\n",
       "      <td>BMW 318 i, 2019_2936</td>\n",
       "      <td>Karoserie Combi\\nPalivo Benzín\\nMíst k sezení ...</td>\n",
       "    </tr>\n",
       "    <tr>\n",
       "      <th>6084</th>\n",
       "      <td>Citroen C-Crosser, 2008_2937</td>\n",
       "      <td>Rok uvedení do provozu 2008\\nTachometr 228 500...</td>\n",
       "    </tr>\n",
       "    <tr>\n",
       "      <th>6085</th>\n",
       "      <td>Citroen C-Crosser, 2008_2937</td>\n",
       "      <td>Karoserie SUV\\nPalivo Diesel\\nMíst k sezení 7 ...</td>\n",
       "    </tr>\n",
       "    <tr>\n",
       "      <th>6086</th>\n",
       "      <td>Nissan Juke, 2020_2938</td>\n",
       "      <td>Rok uvedení do provozu 2020\\nTachometr 30 886 ...</td>\n",
       "    </tr>\n",
       "    <tr>\n",
       "      <th>6087</th>\n",
       "      <td>Nissan Juke, 2020_2938</td>\n",
       "      <td>Karoserie SUV\\nPalivo Benzín\\nMíst k sezení 5 ...</td>\n",
       "    </tr>\n",
       "  </tbody>\n",
       "</table>\n",
       "<p>6088 rows × 2 columns</p>\n",
       "</div>"
      ],
      "text/plain": [
       "                              auto  \\\n",
       "0              Škoda Karoq, 2021_0   \n",
       "1              Škoda Karoq, 2021_0   \n",
       "2            Škoda Octavia, 2021_1   \n",
       "3            Škoda Octavia, 2021_1   \n",
       "4            Škoda Octavia, 2021_2   \n",
       "...                            ...   \n",
       "6083          BMW 318 i, 2019_2936   \n",
       "6084  Citroen C-Crosser, 2008_2937   \n",
       "6085  Citroen C-Crosser, 2008_2937   \n",
       "6086        Nissan Juke, 2020_2938   \n",
       "6087        Nissan Juke, 2020_2938   \n",
       "\n",
       "                                                   info  \n",
       "0     Rok uvedení do provozu 2021\\nTachometr 38 188 ...  \n",
       "1     Karoserie SUV\\nPalivo Diesel\\nMíst k sezení 5 ...  \n",
       "2     Rok uvedení do provozu 2021\\nTachometr 19 997 ...  \n",
       "3     Karoserie Hatchback\\nPalivo Benzín\\nMíst k sez...  \n",
       "4     Rok uvedení do provozu 2021\\nTachometr 21 467 ...  \n",
       "...                                                 ...  \n",
       "6083  Karoserie Combi\\nPalivo Benzín\\nMíst k sezení ...  \n",
       "6084  Rok uvedení do provozu 2008\\nTachometr 228 500...  \n",
       "6085  Karoserie SUV\\nPalivo Diesel\\nMíst k sezení 7 ...  \n",
       "6086  Rok uvedení do provozu 2020\\nTachometr 30 886 ...  \n",
       "6087  Karoserie SUV\\nPalivo Benzín\\nMíst k sezení 5 ...  \n",
       "\n",
       "[6088 rows x 2 columns]"
      ]
     },
     "execution_count": 862,
     "metadata": {},
     "output_type": "execute_result"
    }
   ],
   "source": [
    "df_info_beznan"
   ]
  },
  {
   "cell_type": "code",
   "execution_count": 863,
   "id": "e67653e7-dc4a-4c19-98bd-a3a0e0d01808",
   "metadata": {},
   "outputs": [],
   "source": [
    "df_info_beznan['cumcount'] = df_info_beznan.groupby(['auto']).cumcount()+1"
   ]
  },
  {
   "cell_type": "code",
   "execution_count": 864,
   "id": "d7d0beae-84b2-4ed5-8947-22a48df2fad3",
   "metadata": {},
   "outputs": [],
   "source": [
    "info_pivot = df_info_beznan.pivot(index='auto',columns='cumcount',values='info').reset_index()"
   ]
  },
  {
   "cell_type": "code",
   "execution_count": 865,
   "id": "4c3a2978-d140-4e64-95b1-4da79eb2cef7",
   "metadata": {},
   "outputs": [
    {
     "data": {
      "text/html": [
       "<div>\n",
       "<style scoped>\n",
       "    .dataframe tbody tr th:only-of-type {\n",
       "        vertical-align: middle;\n",
       "    }\n",
       "\n",
       "    .dataframe tbody tr th {\n",
       "        vertical-align: top;\n",
       "    }\n",
       "\n",
       "    .dataframe thead th {\n",
       "        text-align: right;\n",
       "    }\n",
       "</style>\n",
       "<table border=\"1\" class=\"dataframe\">\n",
       "  <thead>\n",
       "    <tr style=\"text-align: right;\">\n",
       "      <th>cumcount</th>\n",
       "      <th>auto</th>\n",
       "      <th>1</th>\n",
       "      <th>2</th>\n",
       "      <th>3</th>\n",
       "      <th>4</th>\n",
       "      <th>5</th>\n",
       "    </tr>\n",
       "  </thead>\n",
       "  <tbody>\n",
       "    <tr>\n",
       "      <th>0</th>\n",
       "      <td>Alfa Romeo 159, 2007_371</td>\n",
       "      <td>Rok uvedení do provozu 2007\\nTachometr 235 177...</td>\n",
       "      <td>Karoserie Combi\\nPalivo Diesel\\nMíst k sezení ...</td>\n",
       "      <td>NaN</td>\n",
       "      <td>NaN</td>\n",
       "      <td>NaN</td>\n",
       "    </tr>\n",
       "    <tr>\n",
       "      <th>1</th>\n",
       "      <td>Alfa Romeo 159, 2008_1894</td>\n",
       "      <td>Rok uvedení do provozu 2008\\nTachometr 196 092...</td>\n",
       "      <td>Karoserie Combi\\nPalivo Diesel\\nMíst k sezení ...</td>\n",
       "      <td>NaN</td>\n",
       "      <td>NaN</td>\n",
       "      <td>NaN</td>\n",
       "    </tr>\n",
       "    <tr>\n",
       "      <th>2</th>\n",
       "      <td>Alfa Romeo Giulietta, 2018_2882</td>\n",
       "      <td>Rok uvedení do provozu 2018\\nTachometr 84 788 ...</td>\n",
       "      <td>Karoserie Hatchback\\nPalivo Diesel\\nMíst k sez...</td>\n",
       "      <td>NaN</td>\n",
       "      <td>NaN</td>\n",
       "      <td>NaN</td>\n",
       "    </tr>\n",
       "    <tr>\n",
       "      <th>3</th>\n",
       "      <td>Audi A3, 2009_2688</td>\n",
       "      <td>Rok uvedení do provozu 2009\\nTachometr 199 896...</td>\n",
       "      <td>Karoserie Hatchback\\nPalivo Benzín\\nMíst k sez...</td>\n",
       "      <td>NaN</td>\n",
       "      <td>NaN</td>\n",
       "      <td>NaN</td>\n",
       "    </tr>\n",
       "    <tr>\n",
       "      <th>4</th>\n",
       "      <td>Audi A3, 2009_2765</td>\n",
       "      <td>Rok uvedení do provozu 2009\\nTachometr 122 236...</td>\n",
       "      <td>Karoserie Hatchback\\nPalivo Benzín\\nMíst k sez...</td>\n",
       "      <td>NaN</td>\n",
       "      <td>NaN</td>\n",
       "      <td>NaN</td>\n",
       "    </tr>\n",
       "  </tbody>\n",
       "</table>\n",
       "</div>"
      ],
      "text/plain": [
       "cumcount                             auto  \\\n",
       "0                Alfa Romeo 159, 2007_371   \n",
       "1               Alfa Romeo 159, 2008_1894   \n",
       "2         Alfa Romeo Giulietta, 2018_2882   \n",
       "3                      Audi A3, 2009_2688   \n",
       "4                      Audi A3, 2009_2765   \n",
       "\n",
       "cumcount                                                  1  \\\n",
       "0         Rok uvedení do provozu 2007\\nTachometr 235 177...   \n",
       "1         Rok uvedení do provozu 2008\\nTachometr 196 092...   \n",
       "2         Rok uvedení do provozu 2018\\nTachometr 84 788 ...   \n",
       "3         Rok uvedení do provozu 2009\\nTachometr 199 896...   \n",
       "4         Rok uvedení do provozu 2009\\nTachometr 122 236...   \n",
       "\n",
       "cumcount                                                  2    3    4    5  \n",
       "0         Karoserie Combi\\nPalivo Diesel\\nMíst k sezení ...  NaN  NaN  NaN  \n",
       "1         Karoserie Combi\\nPalivo Diesel\\nMíst k sezení ...  NaN  NaN  NaN  \n",
       "2         Karoserie Hatchback\\nPalivo Diesel\\nMíst k sez...  NaN  NaN  NaN  \n",
       "3         Karoserie Hatchback\\nPalivo Benzín\\nMíst k sez...  NaN  NaN  NaN  \n",
       "4         Karoserie Hatchback\\nPalivo Benzín\\nMíst k sez...  NaN  NaN  NaN  "
      ]
     },
     "execution_count": 865,
     "metadata": {},
     "output_type": "execute_result"
    }
   ],
   "source": [
    "info_pivot.head()"
   ]
  },
  {
   "cell_type": "code",
   "execution_count": 866,
   "id": "fadc1d52-e649-44ec-afd1-41d639f42412",
   "metadata": {},
   "outputs": [],
   "source": [
    "info_cast1 = info_pivot[1].str.split(pat=\"\\n\", expand=True)"
   ]
  },
  {
   "cell_type": "code",
   "execution_count": 867,
   "id": "81310a04-edfb-4dfa-9637-cda699647bb3",
   "metadata": {},
   "outputs": [],
   "source": [
    "info_cast1 = info_cast1.rename(columns = {0:'rok', 1:'tachometr',2:'motor',3:'prevodovka',4:'barva',5:'vybava_stk',6:'stk',7:'x'})"
   ]
  },
  {
   "cell_type": "code",
   "execution_count": 868,
   "id": "8a6b01ab-f0de-4e36-851f-8805e8a3bb5b",
   "metadata": {},
   "outputs": [
    {
     "data": {
      "text/html": [
       "<div>\n",
       "<style scoped>\n",
       "    .dataframe tbody tr th:only-of-type {\n",
       "        vertical-align: middle;\n",
       "    }\n",
       "\n",
       "    .dataframe tbody tr th {\n",
       "        vertical-align: top;\n",
       "    }\n",
       "\n",
       "    .dataframe thead th {\n",
       "        text-align: right;\n",
       "    }\n",
       "</style>\n",
       "<table border=\"1\" class=\"dataframe\">\n",
       "  <thead>\n",
       "    <tr style=\"text-align: right;\">\n",
       "      <th></th>\n",
       "      <th>rok</th>\n",
       "      <th>tachometr</th>\n",
       "      <th>motor</th>\n",
       "      <th>prevodovka</th>\n",
       "      <th>barva</th>\n",
       "    </tr>\n",
       "  </thead>\n",
       "  <tbody>\n",
       "    <tr>\n",
       "      <th>0</th>\n",
       "      <td>Rok uvedení do provozu 2007</td>\n",
       "      <td>Tachometr 235 177 km</td>\n",
       "      <td>Motor 1.9 JTD, 110kW</td>\n",
       "      <td>Převodovka 6 stupňů</td>\n",
       "      <td>Barva stříbrná-metalíza</td>\n",
       "    </tr>\n",
       "    <tr>\n",
       "      <th>1</th>\n",
       "      <td>Rok uvedení do provozu 2008</td>\n",
       "      <td>Tachometr 196 092 km</td>\n",
       "      <td>Motor 1.9 JTD, 110kW</td>\n",
       "      <td>Převodovka Automat / 5 stupňů</td>\n",
       "      <td>Barva šedá-metalíza</td>\n",
       "    </tr>\n",
       "    <tr>\n",
       "      <th>2</th>\n",
       "      <td>Rok uvedení do provozu 2018</td>\n",
       "      <td>Tachometr 84 788 km</td>\n",
       "      <td>Motor 1.6 JTDM, 88kW</td>\n",
       "      <td>Převodovka 6 stupňů</td>\n",
       "      <td>Barva šedá-metalíza</td>\n",
       "    </tr>\n",
       "    <tr>\n",
       "      <th>3</th>\n",
       "      <td>Rok uvedení do provozu 2009</td>\n",
       "      <td>Tachometr 199 896 km</td>\n",
       "      <td>Motor 1.8 TFSI, 118kW</td>\n",
       "      <td>Převodovka 6 stupňů</td>\n",
       "      <td>Barva šedá-metalíza</td>\n",
       "    </tr>\n",
       "    <tr>\n",
       "      <th>4</th>\n",
       "      <td>Rok uvedení do provozu 2009</td>\n",
       "      <td>Tachometr 122 236 km</td>\n",
       "      <td>Motor 1.6, 75kW</td>\n",
       "      <td>Převodovka Automat / 7 stupňů</td>\n",
       "      <td>Barva bílá</td>\n",
       "    </tr>\n",
       "  </tbody>\n",
       "</table>\n",
       "</div>"
      ],
      "text/plain": [
       "                           rok             tachometr                  motor  \\\n",
       "0  Rok uvedení do provozu 2007  Tachometr 235 177 km   Motor 1.9 JTD, 110kW   \n",
       "1  Rok uvedení do provozu 2008  Tachometr 196 092 km   Motor 1.9 JTD, 110kW   \n",
       "2  Rok uvedení do provozu 2018   Tachometr 84 788 km   Motor 1.6 JTDM, 88kW   \n",
       "3  Rok uvedení do provozu 2009  Tachometr 199 896 km  Motor 1.8 TFSI, 118kW   \n",
       "4  Rok uvedení do provozu 2009  Tachometr 122 236 km        Motor 1.6, 75kW   \n",
       "\n",
       "                      prevodovka                    barva  \n",
       "0            Převodovka 6 stupňů  Barva stříbrná-metalíza  \n",
       "1  Převodovka Automat / 5 stupňů      Barva šedá-metalíza  \n",
       "2            Převodovka 6 stupňů      Barva šedá-metalíza  \n",
       "3            Převodovka 6 stupňů      Barva šedá-metalíza  \n",
       "4  Převodovka Automat / 7 stupňů               Barva bílá  "
      ]
     },
     "execution_count": 868,
     "metadata": {},
     "output_type": "execute_result"
    }
   ],
   "source": [
    "info_cast1 = info_cast1[['rok','tachometr','motor','prevodovka','barva']]\n",
    "info_cast1.head()"
   ]
  },
  {
   "cell_type": "code",
   "execution_count": 869,
   "id": "df235a85-e160-456c-b10c-ecc66801fe79",
   "metadata": {},
   "outputs": [],
   "source": [
    "info_cast2 = info_pivot[2].str.split(pat=\"\\n\", expand=True)"
   ]
  },
  {
   "cell_type": "code",
   "execution_count": 870,
   "id": "01b4d32d-9069-406b-a133-a536e096aa6f",
   "metadata": {},
   "outputs": [],
   "source": [
    "info_cast2 = info_cast2.rename(columns = {0:'karoserie', 1:'palivo',2:'mist_sezeni',3:'emisni_norma',4:'emise_servis',5:'servisni_knizka'})"
   ]
  },
  {
   "cell_type": "code",
   "execution_count": 871,
   "id": "72f293ba-afb3-498b-b9b6-47a1a0bfe643",
   "metadata": {},
   "outputs": [
    {
     "data": {
      "text/html": [
       "<div>\n",
       "<style scoped>\n",
       "    .dataframe tbody tr th:only-of-type {\n",
       "        vertical-align: middle;\n",
       "    }\n",
       "\n",
       "    .dataframe tbody tr th {\n",
       "        vertical-align: top;\n",
       "    }\n",
       "\n",
       "    .dataframe thead th {\n",
       "        text-align: right;\n",
       "    }\n",
       "</style>\n",
       "<table border=\"1\" class=\"dataframe\">\n",
       "  <thead>\n",
       "    <tr style=\"text-align: right;\">\n",
       "      <th></th>\n",
       "      <th>karoserie</th>\n",
       "      <th>palivo</th>\n",
       "    </tr>\n",
       "  </thead>\n",
       "  <tbody>\n",
       "    <tr>\n",
       "      <th>0</th>\n",
       "      <td>Karoserie Combi</td>\n",
       "      <td>Palivo Diesel</td>\n",
       "    </tr>\n",
       "    <tr>\n",
       "      <th>1</th>\n",
       "      <td>Karoserie Combi</td>\n",
       "      <td>Palivo Diesel</td>\n",
       "    </tr>\n",
       "    <tr>\n",
       "      <th>2</th>\n",
       "      <td>Karoserie Hatchback</td>\n",
       "      <td>Palivo Diesel</td>\n",
       "    </tr>\n",
       "    <tr>\n",
       "      <th>3</th>\n",
       "      <td>Karoserie Hatchback</td>\n",
       "      <td>Palivo Benzín</td>\n",
       "    </tr>\n",
       "    <tr>\n",
       "      <th>4</th>\n",
       "      <td>Karoserie Hatchback</td>\n",
       "      <td>Palivo Benzín</td>\n",
       "    </tr>\n",
       "  </tbody>\n",
       "</table>\n",
       "</div>"
      ],
      "text/plain": [
       "             karoserie         palivo\n",
       "0      Karoserie Combi  Palivo Diesel\n",
       "1      Karoserie Combi  Palivo Diesel\n",
       "2  Karoserie Hatchback  Palivo Diesel\n",
       "3  Karoserie Hatchback  Palivo Benzín\n",
       "4  Karoserie Hatchback  Palivo Benzín"
      ]
     },
     "execution_count": 871,
     "metadata": {},
     "output_type": "execute_result"
    }
   ],
   "source": [
    "info_cast2 = info_cast2[['karoserie','palivo']]\n",
    "info_cast2.head()"
   ]
  },
  {
   "cell_type": "code",
   "execution_count": 872,
   "id": "1c9e8974-85c2-4746-b618-fcbaa3c7ed18",
   "metadata": {},
   "outputs": [],
   "source": [
    "info_pivot[['rok','tachometr','motor','prevodovka','barva']] = info_cast1"
   ]
  },
  {
   "cell_type": "code",
   "execution_count": 873,
   "id": "aa834194-1b24-49d6-9aac-bb0edda103d7",
   "metadata": {},
   "outputs": [],
   "source": [
    "info_pivot[['karoserie','palivo']] = info_cast2"
   ]
  },
  {
   "cell_type": "code",
   "execution_count": 874,
   "id": "c33999e1-9658-48b4-9bfd-70af9b9e4b81",
   "metadata": {},
   "outputs": [
    {
     "data": {
      "text/html": [
       "<div>\n",
       "<style scoped>\n",
       "    .dataframe tbody tr th:only-of-type {\n",
       "        vertical-align: middle;\n",
       "    }\n",
       "\n",
       "    .dataframe tbody tr th {\n",
       "        vertical-align: top;\n",
       "    }\n",
       "\n",
       "    .dataframe thead th {\n",
       "        text-align: right;\n",
       "    }\n",
       "</style>\n",
       "<table border=\"1\" class=\"dataframe\">\n",
       "  <thead>\n",
       "    <tr style=\"text-align: right;\">\n",
       "      <th>cumcount</th>\n",
       "      <th>auto</th>\n",
       "      <th>rok</th>\n",
       "      <th>tachometr</th>\n",
       "      <th>motor</th>\n",
       "      <th>prevodovka</th>\n",
       "      <th>barva</th>\n",
       "      <th>karoserie</th>\n",
       "      <th>palivo</th>\n",
       "    </tr>\n",
       "  </thead>\n",
       "  <tbody>\n",
       "    <tr>\n",
       "      <th>0</th>\n",
       "      <td>Alfa Romeo 159, 2007_371</td>\n",
       "      <td>Rok uvedení do provozu 2007</td>\n",
       "      <td>Tachometr 235 177 km</td>\n",
       "      <td>Motor 1.9 JTD, 110kW</td>\n",
       "      <td>Převodovka 6 stupňů</td>\n",
       "      <td>Barva stříbrná-metalíza</td>\n",
       "      <td>Karoserie Combi</td>\n",
       "      <td>Palivo Diesel</td>\n",
       "    </tr>\n",
       "    <tr>\n",
       "      <th>1</th>\n",
       "      <td>Alfa Romeo 159, 2008_1894</td>\n",
       "      <td>Rok uvedení do provozu 2008</td>\n",
       "      <td>Tachometr 196 092 km</td>\n",
       "      <td>Motor 1.9 JTD, 110kW</td>\n",
       "      <td>Převodovka Automat / 5 stupňů</td>\n",
       "      <td>Barva šedá-metalíza</td>\n",
       "      <td>Karoserie Combi</td>\n",
       "      <td>Palivo Diesel</td>\n",
       "    </tr>\n",
       "    <tr>\n",
       "      <th>2</th>\n",
       "      <td>Alfa Romeo Giulietta, 2018_2882</td>\n",
       "      <td>Rok uvedení do provozu 2018</td>\n",
       "      <td>Tachometr 84 788 km</td>\n",
       "      <td>Motor 1.6 JTDM, 88kW</td>\n",
       "      <td>Převodovka 6 stupňů</td>\n",
       "      <td>Barva šedá-metalíza</td>\n",
       "      <td>Karoserie Hatchback</td>\n",
       "      <td>Palivo Diesel</td>\n",
       "    </tr>\n",
       "    <tr>\n",
       "      <th>3</th>\n",
       "      <td>Audi A3, 2009_2688</td>\n",
       "      <td>Rok uvedení do provozu 2009</td>\n",
       "      <td>Tachometr 199 896 km</td>\n",
       "      <td>Motor 1.8 TFSI, 118kW</td>\n",
       "      <td>Převodovka 6 stupňů</td>\n",
       "      <td>Barva šedá-metalíza</td>\n",
       "      <td>Karoserie Hatchback</td>\n",
       "      <td>Palivo Benzín</td>\n",
       "    </tr>\n",
       "    <tr>\n",
       "      <th>4</th>\n",
       "      <td>Audi A3, 2009_2765</td>\n",
       "      <td>Rok uvedení do provozu 2009</td>\n",
       "      <td>Tachometr 122 236 km</td>\n",
       "      <td>Motor 1.6, 75kW</td>\n",
       "      <td>Převodovka Automat / 7 stupňů</td>\n",
       "      <td>Barva bílá</td>\n",
       "      <td>Karoserie Hatchback</td>\n",
       "      <td>Palivo Benzín</td>\n",
       "    </tr>\n",
       "  </tbody>\n",
       "</table>\n",
       "</div>"
      ],
      "text/plain": [
       "cumcount                             auto                          rok  \\\n",
       "0                Alfa Romeo 159, 2007_371  Rok uvedení do provozu 2007   \n",
       "1               Alfa Romeo 159, 2008_1894  Rok uvedení do provozu 2008   \n",
       "2         Alfa Romeo Giulietta, 2018_2882  Rok uvedení do provozu 2018   \n",
       "3                      Audi A3, 2009_2688  Rok uvedení do provozu 2009   \n",
       "4                      Audi A3, 2009_2765  Rok uvedení do provozu 2009   \n",
       "\n",
       "cumcount             tachometr                  motor  \\\n",
       "0         Tachometr 235 177 km   Motor 1.9 JTD, 110kW   \n",
       "1         Tachometr 196 092 km   Motor 1.9 JTD, 110kW   \n",
       "2          Tachometr 84 788 km   Motor 1.6 JTDM, 88kW   \n",
       "3         Tachometr 199 896 km  Motor 1.8 TFSI, 118kW   \n",
       "4         Tachometr 122 236 km        Motor 1.6, 75kW   \n",
       "\n",
       "cumcount                     prevodovka                    barva  \\\n",
       "0                   Převodovka 6 stupňů  Barva stříbrná-metalíza   \n",
       "1         Převodovka Automat / 5 stupňů      Barva šedá-metalíza   \n",
       "2                   Převodovka 6 stupňů      Barva šedá-metalíza   \n",
       "3                   Převodovka 6 stupňů      Barva šedá-metalíza   \n",
       "4         Převodovka Automat / 7 stupňů               Barva bílá   \n",
       "\n",
       "cumcount            karoserie         palivo  \n",
       "0             Karoserie Combi  Palivo Diesel  \n",
       "1             Karoserie Combi  Palivo Diesel  \n",
       "2         Karoserie Hatchback  Palivo Diesel  \n",
       "3         Karoserie Hatchback  Palivo Benzín  \n",
       "4         Karoserie Hatchback  Palivo Benzín  "
      ]
     },
     "execution_count": 874,
     "metadata": {},
     "output_type": "execute_result"
    }
   ],
   "source": [
    "info_pivot = info_pivot[['auto','rok','tachometr','motor','prevodovka','barva','karoserie','palivo']]\n",
    "info_pivot.head()"
   ]
  },
  {
   "cell_type": "code",
   "execution_count": 875,
   "id": "6c9cc74d-1455-495a-9fd7-6fcb38d52b87",
   "metadata": {},
   "outputs": [
    {
     "name": "stdout",
     "output_type": "stream",
     "text": [
      "<class 'pandas.core.frame.DataFrame'>\n",
      "RangeIndex: 2936 entries, 0 to 2935\n",
      "Data columns (total 8 columns):\n",
      " #   Column      Non-Null Count  Dtype \n",
      "---  ------      --------------  ----- \n",
      " 0   auto        2936 non-null   object\n",
      " 1   rok         2936 non-null   object\n",
      " 2   tachometr   2936 non-null   object\n",
      " 3   motor       2936 non-null   object\n",
      " 4   prevodovka  2936 non-null   object\n",
      " 5   barva       2933 non-null   object\n",
      " 6   karoserie   2936 non-null   object\n",
      " 7   palivo      2936 non-null   object\n",
      "dtypes: object(8)\n",
      "memory usage: 183.6+ KB\n"
     ]
    }
   ],
   "source": [
    "info_pivot.info()"
   ]
  },
  {
   "cell_type": "markdown",
   "id": "b122c978-feca-43eb-9fd0-715740e0200a",
   "metadata": {},
   "source": [
    "#### Join dataframů s cenami a informacemi"
   ]
  },
  {
   "cell_type": "code",
   "execution_count": 876,
   "id": "c2a71901-e43d-416a-b66f-5fa369c45831",
   "metadata": {},
   "outputs": [],
   "source": [
    "auta_merged = df_auto_cena.merge(info_pivot, how='left', left_on='id', right_on='auto')"
   ]
  },
  {
   "cell_type": "markdown",
   "id": "849b9968-4e6f-4d81-a149-e1b3ea0c3aeb",
   "metadata": {},
   "source": [
    "#### Inspekce nabídek, které neobsahovali informace (NaN hodnoty)"
   ]
  },
  {
   "cell_type": "code",
   "execution_count": 877,
   "id": "1e9e44ae-5951-4701-93d4-dda62e7a1f9f",
   "metadata": {},
   "outputs": [
    {
     "data": {
      "text/html": [
       "<div>\n",
       "<style scoped>\n",
       "    .dataframe tbody tr th:only-of-type {\n",
       "        vertical-align: middle;\n",
       "    }\n",
       "\n",
       "    .dataframe tbody tr th {\n",
       "        vertical-align: top;\n",
       "    }\n",
       "\n",
       "    .dataframe thead th {\n",
       "        text-align: right;\n",
       "    }\n",
       "</style>\n",
       "<table border=\"1\" class=\"dataframe\">\n",
       "  <thead>\n",
       "    <tr style=\"text-align: right;\">\n",
       "      <th>cumcount</th>\n",
       "      <th>id</th>\n",
       "      <th>znacka</th>\n",
       "      <th>model</th>\n",
       "      <th>cena</th>\n",
       "      <th>auto</th>\n",
       "      <th>rok</th>\n",
       "      <th>tachometr</th>\n",
       "      <th>motor</th>\n",
       "      <th>prevodovka</th>\n",
       "      <th>barva</th>\n",
       "      <th>karoserie</th>\n",
       "      <th>palivo</th>\n",
       "    </tr>\n",
       "  </thead>\n",
       "  <tbody>\n",
       "    <tr>\n",
       "      <th>170</th>\n",
       "      <td>BMW 520d, 2013_2420</td>\n",
       "      <td>BMW</td>\n",
       "      <td>5</td>\n",
       "      <td>330 000 Kč</td>\n",
       "      <td>NaN</td>\n",
       "      <td>NaN</td>\n",
       "      <td>NaN</td>\n",
       "      <td>NaN</td>\n",
       "      <td>NaN</td>\n",
       "      <td>NaN</td>\n",
       "      <td>NaN</td>\n",
       "      <td>NaN</td>\n",
       "    </tr>\n",
       "    <tr>\n",
       "      <th>210</th>\n",
       "      <td>BMW X5, 2006_94</td>\n",
       "      <td>BMW</td>\n",
       "      <td>X5</td>\n",
       "      <td>240 000 Kč</td>\n",
       "      <td>NaN</td>\n",
       "      <td>NaN</td>\n",
       "      <td>NaN</td>\n",
       "      <td>NaN</td>\n",
       "      <td>NaN</td>\n",
       "      <td>NaN</td>\n",
       "      <td>NaN</td>\n",
       "      <td>NaN</td>\n",
       "    </tr>\n",
       "    <tr>\n",
       "      <th>805</th>\n",
       "      <td>Kia Optima, 2016_2205</td>\n",
       "      <td>Kia</td>\n",
       "      <td>Kia Optima</td>\n",
       "      <td>468 000 Kč</td>\n",
       "      <td>Kia Optima, 2016_2205</td>\n",
       "      <td>Rok uvedení do provozu 2016</td>\n",
       "      <td>Tachometr 75 736 km</td>\n",
       "      <td>Motor 2.0 T-GDI GT, 180kW</td>\n",
       "      <td>Převodovka Automat / 6 stupňů</td>\n",
       "      <td>None</td>\n",
       "      <td>Karoserie Combi</td>\n",
       "      <td>Palivo Benzín</td>\n",
       "    </tr>\n",
       "    <tr>\n",
       "      <th>1209</th>\n",
       "      <td>Nissan Qashqai, 2014_1716</td>\n",
       "      <td>Nissan</td>\n",
       "      <td>Qashqai</td>\n",
       "      <td>50 000 Kč</td>\n",
       "      <td>NaN</td>\n",
       "      <td>NaN</td>\n",
       "      <td>NaN</td>\n",
       "      <td>NaN</td>\n",
       "      <td>NaN</td>\n",
       "      <td>NaN</td>\n",
       "      <td>NaN</td>\n",
       "      <td>NaN</td>\n",
       "    </tr>\n",
       "    <tr>\n",
       "      <th>1483</th>\n",
       "      <td>Seat Toledo, 2014_1909</td>\n",
       "      <td>Seat</td>\n",
       "      <td>Seat Toledo</td>\n",
       "      <td>170 000 Kč</td>\n",
       "      <td>Seat Toledo, 2014_1909</td>\n",
       "      <td>Rok uvedení do provozu 2014</td>\n",
       "      <td>Tachometr 145 181 km</td>\n",
       "      <td>Motor 1.2 TSI, 63kW</td>\n",
       "      <td>Převodovka 5 stupňů</td>\n",
       "      <td>None</td>\n",
       "      <td>Karoserie Sedan</td>\n",
       "      <td>Palivo Benzín</td>\n",
       "    </tr>\n",
       "    <tr>\n",
       "      <th>2652</th>\n",
       "      <td>Škoda Rapid, 2015_1677</td>\n",
       "      <td>Škoda</td>\n",
       "      <td>Škoda Rapid</td>\n",
       "      <td>163 000 Kč</td>\n",
       "      <td>Škoda Rapid, 2015_1677</td>\n",
       "      <td>Rok uvedení do provozu 2015</td>\n",
       "      <td>Tachometr 158 909 km</td>\n",
       "      <td>Motor 1.2 TSI, 63kW</td>\n",
       "      <td>Převodovka 5 stupňů</td>\n",
       "      <td>None</td>\n",
       "      <td>Karoserie Hatchback</td>\n",
       "      <td>Palivo Benzín</td>\n",
       "    </tr>\n",
       "  </tbody>\n",
       "</table>\n",
       "</div>"
      ],
      "text/plain": [
       "cumcount                         id  znacka        model        cena  \\\n",
       "170             BMW 520d, 2013_2420     BMW            5  330 000 Kč   \n",
       "210                 BMW X5, 2006_94     BMW           X5  240 000 Kč   \n",
       "805           Kia Optima, 2016_2205     Kia   Kia Optima  468 000 Kč   \n",
       "1209      Nissan Qashqai, 2014_1716  Nissan      Qashqai   50 000 Kč   \n",
       "1483         Seat Toledo, 2014_1909    Seat  Seat Toledo  170 000 Kč   \n",
       "2652         Škoda Rapid, 2015_1677   Škoda  Škoda Rapid  163 000 Kč   \n",
       "\n",
       "cumcount                    auto                          rok  \\\n",
       "170                          NaN                          NaN   \n",
       "210                          NaN                          NaN   \n",
       "805        Kia Optima, 2016_2205  Rok uvedení do provozu 2016   \n",
       "1209                         NaN                          NaN   \n",
       "1483      Seat Toledo, 2014_1909  Rok uvedení do provozu 2014   \n",
       "2652      Škoda Rapid, 2015_1677  Rok uvedení do provozu 2015   \n",
       "\n",
       "cumcount             tachometr                      motor  \\\n",
       "170                        NaN                        NaN   \n",
       "210                        NaN                        NaN   \n",
       "805        Tachometr 75 736 km  Motor 2.0 T-GDI GT, 180kW   \n",
       "1209                       NaN                        NaN   \n",
       "1483      Tachometr 145 181 km        Motor 1.2 TSI, 63kW   \n",
       "2652      Tachometr 158 909 km        Motor 1.2 TSI, 63kW   \n",
       "\n",
       "cumcount                     prevodovka barva            karoserie  \\\n",
       "170                                 NaN   NaN                  NaN   \n",
       "210                                 NaN   NaN                  NaN   \n",
       "805       Převodovka Automat / 6 stupňů  None      Karoserie Combi   \n",
       "1209                                NaN   NaN                  NaN   \n",
       "1483                Převodovka 5 stupňů  None      Karoserie Sedan   \n",
       "2652                Převodovka 5 stupňů  None  Karoserie Hatchback   \n",
       "\n",
       "cumcount         palivo  \n",
       "170                 NaN  \n",
       "210                 NaN  \n",
       "805       Palivo Benzín  \n",
       "1209                NaN  \n",
       "1483      Palivo Benzín  \n",
       "2652      Palivo Benzín  "
      ]
     },
     "execution_count": 877,
     "metadata": {},
     "output_type": "execute_result"
    }
   ],
   "source": [
    "auta_merged[auta_merged.isna().any(axis=1)]"
   ]
  },
  {
   "cell_type": "markdown",
   "id": "bc526be2-ae4f-4db5-a459-f4936c97641c",
   "metadata": {},
   "source": [
    "#### Verifikace, proč chybí data - link je neplatný (asi byla mezitím nabídka stažena), postup je tedy dosud správný"
   ]
  },
  {
   "cell_type": "code",
   "execution_count": 878,
   "id": "db9e2527-7715-4302-a5f0-1e12c0f15163",
   "metadata": {
    "tags": []
   },
   "outputs": [
    {
     "data": {
      "text/plain": [
       "'https://www.aaaauto.cz/cz/bmw-5/car.html?id=503616588#&promo=r'"
      ]
     },
     "execution_count": 878,
     "metadata": {},
     "output_type": "execute_result"
    }
   ],
   "source": [
    "df[df['nadpis'] == 'BMW 520d, 2013_2420'].iloc[0]['url']"
   ]
  },
  {
   "cell_type": "markdown",
   "id": "026d2949-6e27-4adb-85a2-7ecaf99b5b62",
   "metadata": {},
   "source": [
    "#### Nahrazení chybějících hodnot (barva) nejčastější hodnotou\n",
    "(ideální by bylo rozkliknout jednotlivé odkazy a barvu nahradit u každého auta zvlášť, v případě mnoha položek by to bylo ale pracné)"
   ]
  },
  {
   "cell_type": "code",
   "execution_count": 879,
   "id": "a6df3685-28cf-42a4-ae6a-c73fdc613285",
   "metadata": {},
   "outputs": [
    {
     "data": {
      "text/plain": [
       "'Barva šedá-metalíza'"
      ]
     },
     "execution_count": 879,
     "metadata": {},
     "output_type": "execute_result"
    }
   ],
   "source": [
    "modus_barva = auta_merged['barva'].value_counts().idxmax()\n",
    "modus_barva"
   ]
  },
  {
   "cell_type": "code",
   "execution_count": 880,
   "id": "02d2c66e-37b2-4dd4-9d5a-5373e0fccd84",
   "metadata": {},
   "outputs": [],
   "source": [
    "auta_merged[\"barva\"] = auta_merged[\"barva\"].fillna(modus_barva)"
   ]
  },
  {
   "cell_type": "markdown",
   "id": "6a19cc73-877b-482f-ad95-dedb8b4f5291",
   "metadata": {},
   "source": [
    "#### Smazání chybějících hodnot, kde chybí všechny informace"
   ]
  },
  {
   "cell_type": "code",
   "execution_count": 881,
   "id": "d105c65a-54aa-4a41-876d-94d46fe2cb93",
   "metadata": {},
   "outputs": [],
   "source": [
    "auta_merged = auta_merged.dropna().reset_index(drop=True)"
   ]
  },
  {
   "cell_type": "code",
   "execution_count": 882,
   "id": "7dc9049b-eb6f-4140-9e83-8eddbd5fd16a",
   "metadata": {},
   "outputs": [],
   "source": [
    "auta_merged = auta_merged.drop(['auto'], axis=1)"
   ]
  },
  {
   "cell_type": "markdown",
   "id": "1d1e92cf-4f3f-400c-932f-647caa0e5c0b",
   "metadata": {},
   "source": [
    "#### Data už neobsahují žádné chybějící ani duplicitní hodnoty"
   ]
  },
  {
   "cell_type": "code",
   "execution_count": 883,
   "id": "66df0ca3-ee71-46f7-a8ff-82552dfd4caa",
   "metadata": {},
   "outputs": [
    {
     "name": "stdout",
     "output_type": "stream",
     "text": [
      "<class 'pandas.core.frame.DataFrame'>\n",
      "RangeIndex: 2936 entries, 0 to 2935\n",
      "Data columns (total 11 columns):\n",
      " #   Column      Non-Null Count  Dtype \n",
      "---  ------      --------------  ----- \n",
      " 0   id          2936 non-null   object\n",
      " 1   znacka      2936 non-null   object\n",
      " 2   model       2936 non-null   object\n",
      " 3   cena        2936 non-null   object\n",
      " 4   rok         2936 non-null   object\n",
      " 5   tachometr   2936 non-null   object\n",
      " 6   motor       2936 non-null   object\n",
      " 7   prevodovka  2936 non-null   object\n",
      " 8   barva       2936 non-null   object\n",
      " 9   karoserie   2936 non-null   object\n",
      " 10  palivo      2936 non-null   object\n",
      "dtypes: object(11)\n",
      "memory usage: 252.4+ KB\n"
     ]
    }
   ],
   "source": [
    "auta_merged.info()"
   ]
  },
  {
   "cell_type": "markdown",
   "id": "ebc5d54a-0765-408f-85aa-29dac8fc0c27",
   "metadata": {},
   "source": [
    "#### Smazání zbytečného textu z numerických hodnot a převod na správné datové typy"
   ]
  },
  {
   "cell_type": "code",
   "execution_count": 884,
   "id": "2dfc259d-ebf6-4f2c-8118-7b862656ee80",
   "metadata": {},
   "outputs": [],
   "source": [
    "auta_merged['cena'] = auta_merged['cena'].str.extractall('(\\d+)').unstack().fillna('').sum(axis=1).astype(int)\n",
    "auta_merged['tachometr'] = auta_merged['tachometr'].str.extractall('(\\d+)').unstack().fillna('').sum(axis=1).astype(int)"
   ]
  },
  {
   "cell_type": "code",
   "execution_count": 885,
   "id": "506452ef-1e19-4710-9424-6d0374b58a9d",
   "metadata": {},
   "outputs": [],
   "source": [
    "auta_merged['rok'] = auta_merged['rok'].str.extractall('(\\d+)').unstack().fillna('').sum(axis=1).astype(int)"
   ]
  },
  {
   "cell_type": "code",
   "execution_count": 886,
   "id": "0ea77038-0dd6-4135-8bbc-989d562fd559",
   "metadata": {},
   "outputs": [],
   "source": [
    "auta_merged['rok'] = pd.to_datetime(auta_merged['rok'],format = \"%Y\").dt.year"
   ]
  },
  {
   "cell_type": "markdown",
   "id": "3c9de464-1387-4cdb-bf61-d15119224c36",
   "metadata": {},
   "source": [
    "#### Všechny proměnné mají nyní správný datový typ"
   ]
  },
  {
   "cell_type": "code",
   "execution_count": 887,
   "id": "62aeef90-e93d-4c57-a864-c770d6532448",
   "metadata": {},
   "outputs": [
    {
     "name": "stdout",
     "output_type": "stream",
     "text": [
      "<class 'pandas.core.frame.DataFrame'>\n",
      "RangeIndex: 2936 entries, 0 to 2935\n",
      "Data columns (total 11 columns):\n",
      " #   Column      Non-Null Count  Dtype \n",
      "---  ------      --------------  ----- \n",
      " 0   id          2936 non-null   object\n",
      " 1   znacka      2936 non-null   object\n",
      " 2   model       2936 non-null   object\n",
      " 3   cena        2936 non-null   int32 \n",
      " 4   rok         2936 non-null   int64 \n",
      " 5   tachometr   2936 non-null   int32 \n",
      " 6   motor       2936 non-null   object\n",
      " 7   prevodovka  2936 non-null   object\n",
      " 8   barva       2936 non-null   object\n",
      " 9   karoserie   2936 non-null   object\n",
      " 10  palivo      2936 non-null   object\n",
      "dtypes: int32(2), int64(1), object(8)\n",
      "memory usage: 229.5+ KB\n"
     ]
    }
   ],
   "source": [
    "auta_merged.info()"
   ]
  },
  {
   "cell_type": "code",
   "execution_count": 888,
   "id": "d6375a19-e42c-4a0a-9a54-e6292ce21d65",
   "metadata": {},
   "outputs": [
    {
     "data": {
      "text/html": [
       "<div>\n",
       "<style scoped>\n",
       "    .dataframe tbody tr th:only-of-type {\n",
       "        vertical-align: middle;\n",
       "    }\n",
       "\n",
       "    .dataframe tbody tr th {\n",
       "        vertical-align: top;\n",
       "    }\n",
       "\n",
       "    .dataframe thead th {\n",
       "        text-align: right;\n",
       "    }\n",
       "</style>\n",
       "<table border=\"1\" class=\"dataframe\">\n",
       "  <thead>\n",
       "    <tr style=\"text-align: right;\">\n",
       "      <th>cumcount</th>\n",
       "      <th>id</th>\n",
       "      <th>znacka</th>\n",
       "      <th>model</th>\n",
       "      <th>cena</th>\n",
       "      <th>rok</th>\n",
       "      <th>tachometr</th>\n",
       "      <th>motor</th>\n",
       "      <th>prevodovka</th>\n",
       "      <th>barva</th>\n",
       "      <th>karoserie</th>\n",
       "      <th>palivo</th>\n",
       "    </tr>\n",
       "  </thead>\n",
       "  <tbody>\n",
       "    <tr>\n",
       "      <th>0</th>\n",
       "      <td>Alfa Romeo 159, 2007_371</td>\n",
       "      <td>Alfa Romeo</td>\n",
       "      <td>Alfa Romeo 159</td>\n",
       "      <td>74000</td>\n",
       "      <td>2007</td>\n",
       "      <td>235177</td>\n",
       "      <td>Motor 1.9 JTD, 110kW</td>\n",
       "      <td>Převodovka 6 stupňů</td>\n",
       "      <td>Barva stříbrná-metalíza</td>\n",
       "      <td>Karoserie Combi</td>\n",
       "      <td>Palivo Diesel</td>\n",
       "    </tr>\n",
       "    <tr>\n",
       "      <th>1</th>\n",
       "      <td>Alfa Romeo 159, 2008_1894</td>\n",
       "      <td>Alfa Romeo</td>\n",
       "      <td>Alfa Romeo 159</td>\n",
       "      <td>106000</td>\n",
       "      <td>2008</td>\n",
       "      <td>196092</td>\n",
       "      <td>Motor 1.9 JTD, 110kW</td>\n",
       "      <td>Převodovka Automat / 5 stupňů</td>\n",
       "      <td>Barva šedá-metalíza</td>\n",
       "      <td>Karoserie Combi</td>\n",
       "      <td>Palivo Diesel</td>\n",
       "    </tr>\n",
       "    <tr>\n",
       "      <th>2</th>\n",
       "      <td>Alfa Romeo Giulietta, 2018_2882</td>\n",
       "      <td>Alfa Romeo</td>\n",
       "      <td>Alfa Romeo Giulietta</td>\n",
       "      <td>311000</td>\n",
       "      <td>2018</td>\n",
       "      <td>84788</td>\n",
       "      <td>Motor 1.6 JTDM, 88kW</td>\n",
       "      <td>Převodovka 6 stupňů</td>\n",
       "      <td>Barva šedá-metalíza</td>\n",
       "      <td>Karoserie Hatchback</td>\n",
       "      <td>Palivo Diesel</td>\n",
       "    </tr>\n",
       "    <tr>\n",
       "      <th>3</th>\n",
       "      <td>Audi A3, 2009_2688</td>\n",
       "      <td>Audi</td>\n",
       "      <td>Audi A3</td>\n",
       "      <td>180000</td>\n",
       "      <td>2009</td>\n",
       "      <td>199896</td>\n",
       "      <td>Motor 1.8 TFSI, 118kW</td>\n",
       "      <td>Převodovka 6 stupňů</td>\n",
       "      <td>Barva šedá-metalíza</td>\n",
       "      <td>Karoserie Hatchback</td>\n",
       "      <td>Palivo Benzín</td>\n",
       "    </tr>\n",
       "    <tr>\n",
       "      <th>4</th>\n",
       "      <td>Audi A3, 2009_2765</td>\n",
       "      <td>Audi</td>\n",
       "      <td>Audi A3</td>\n",
       "      <td>200000</td>\n",
       "      <td>2009</td>\n",
       "      <td>122236</td>\n",
       "      <td>Motor 1.6, 75kW</td>\n",
       "      <td>Převodovka Automat / 7 stupňů</td>\n",
       "      <td>Barva bílá</td>\n",
       "      <td>Karoserie Hatchback</td>\n",
       "      <td>Palivo Benzín</td>\n",
       "    </tr>\n",
       "  </tbody>\n",
       "</table>\n",
       "</div>"
      ],
      "text/plain": [
       "cumcount                               id      znacka                 model  \\\n",
       "0                Alfa Romeo 159, 2007_371  Alfa Romeo        Alfa Romeo 159   \n",
       "1               Alfa Romeo 159, 2008_1894  Alfa Romeo        Alfa Romeo 159   \n",
       "2         Alfa Romeo Giulietta, 2018_2882  Alfa Romeo  Alfa Romeo Giulietta   \n",
       "3                      Audi A3, 2009_2688        Audi               Audi A3   \n",
       "4                      Audi A3, 2009_2765        Audi               Audi A3   \n",
       "\n",
       "cumcount    cena   rok  tachometr                  motor  \\\n",
       "0          74000  2007     235177   Motor 1.9 JTD, 110kW   \n",
       "1         106000  2008     196092   Motor 1.9 JTD, 110kW   \n",
       "2         311000  2018      84788   Motor 1.6 JTDM, 88kW   \n",
       "3         180000  2009     199896  Motor 1.8 TFSI, 118kW   \n",
       "4         200000  2009     122236        Motor 1.6, 75kW   \n",
       "\n",
       "cumcount                     prevodovka                    barva  \\\n",
       "0                   Převodovka 6 stupňů  Barva stříbrná-metalíza   \n",
       "1         Převodovka Automat / 5 stupňů      Barva šedá-metalíza   \n",
       "2                   Převodovka 6 stupňů      Barva šedá-metalíza   \n",
       "3                   Převodovka 6 stupňů      Barva šedá-metalíza   \n",
       "4         Převodovka Automat / 7 stupňů               Barva bílá   \n",
       "\n",
       "cumcount            karoserie         palivo  \n",
       "0             Karoserie Combi  Palivo Diesel  \n",
       "1             Karoserie Combi  Palivo Diesel  \n",
       "2         Karoserie Hatchback  Palivo Diesel  \n",
       "3         Karoserie Hatchback  Palivo Benzín  \n",
       "4         Karoserie Hatchback  Palivo Benzín  "
      ]
     },
     "execution_count": 888,
     "metadata": {},
     "output_type": "execute_result"
    }
   ],
   "source": [
    "auta_merged.head()"
   ]
  },
  {
   "cell_type": "markdown",
   "id": "fbb4dd4e-a15a-4d4e-ac92-678c55137179",
   "metadata": {},
   "source": [
    "#### Zkoumání unikátních hodnot a jejich počet v rámci každé proměnné"
   ]
  },
  {
   "cell_type": "code",
   "execution_count": 889,
   "id": "8ed6204e-14fb-4a6e-bd93-c82f76e7ee33",
   "metadata": {},
   "outputs": [
    {
     "name": "stdout",
     "output_type": "stream",
     "text": [
      "Pocet hodnot pro promennou id :2936\n",
      "Pocet hodnot pro promennou znacka :35\n",
      "Pocet hodnot pro promennou model :231\n",
      "Pocet hodnot pro promennou cena :423\n",
      "Pocet hodnot pro promennou rok :18 -- [2004 2005 2006 2007 2008 2009 2010 2011 2012 2013 2014 2015 2016 2017\n",
      " 2018 2019 2020 2021]\n",
      "Pocet hodnot pro promennou tachometr :2912\n",
      "Pocet hodnot pro promennou motor :611\n",
      "Pocet hodnot pro promennou prevodovka :16 -- ['Celkový výkon 138kW' 'Celkový výkon 185kW' 'Celkový výkon 220kW'\n",
      " 'Celkový výkon 90kW' 'Celkový výkon 92kW' 'Převodovka'\n",
      " 'Převodovka 5 stupňů' 'Převodovka 6 stupňů' 'Převodovka 7 stupňů'\n",
      " 'Převodovka 77 stupňů' 'Převodovka Automat'\n",
      " 'Převodovka Automat / 5 stupňů' 'Převodovka Automat / 6 stupňů'\n",
      " 'Převodovka Automat / 7 stupňů' 'Převodovka Automat / 8 stupňů'\n",
      " 'Převodovka Automat / 9 stupňů']\n",
      "Pocet hodnot pro promennou barva :37\n",
      "Pocet hodnot pro promennou karoserie :15 -- ['Karoserie' 'Karoserie Bus' 'Karoserie Cabrio'\n",
      " 'Karoserie Chladící/mrazící' 'Karoserie Combi' 'Karoserie Coupe'\n",
      " 'Karoserie Hatchback' 'Karoserie Off road' 'Karoserie Pickup'\n",
      " 'Karoserie Platform' 'Karoserie Rodinné vozy' 'Karoserie SUV'\n",
      " 'Karoserie Sedan' 'Karoserie Skříňová dodávka' 'Karoserie Van']\n",
      "Pocet hodnot pro promennou palivo :9 -- ['Palivo Benzín' 'Palivo Benzín (MHEV)' 'Palivo CNG' 'Palivo Diesel'\n",
      " 'Palivo Diesel (MHEV)' 'Palivo Hybrid (FHEV)' 'Palivo Hybrid (MHEV)'\n",
      " 'Palivo Hybrid (PHEV)' 'Palivo LPG']\n"
     ]
    }
   ],
   "source": [
    "for sloupec in auta_merged:\n",
    "    unikatni = np.unique(auta_merged[sloupec])\n",
    "    pocet_hodnot = len(unikatni)\n",
    "    if pocet_hodnot < 30:\n",
    "        print('Pocet hodnot pro promennou {} :{} -- {}'.format(sloupec, pocet_hodnot,unikatni))\n",
    "    else:\n",
    "        print('Pocet hodnot pro promennou {} :{}'.format(sloupec, pocet_hodnot))"
   ]
  },
  {
   "cell_type": "markdown",
   "id": "02f1ee49-8657-4e30-b4e0-e92325db7349",
   "metadata": {},
   "source": [
    "#### Při zkoumání hodnot jednotlivých proměnných identifikovány u několika nabídek nesprávné hodnoty (kW u převodovky místo motoru apod.)"
   ]
  },
  {
   "cell_type": "code",
   "execution_count": 890,
   "id": "65ef0a7c-9ae1-4afc-b91f-038d1cbd1229",
   "metadata": {},
   "outputs": [
    {
     "data": {
      "text/plain": [
       "Převodovka 6 stupňů              1404\n",
       "Převodovka Automat / 6 stupňů     538\n",
       "Převodovka Automat / 7 stupňů     404\n",
       "Převodovka 5 stupňů               399\n",
       "Převodovka Automat / 8 stupňů     141\n",
       "                                 ... \n",
       "Celkový výkon 92kW                  1\n",
       "Celkový výkon 220kW                 1\n",
       "Celkový výkon 90kW                  1\n",
       "Převodovka 77 stupňů                1\n",
       "Převodovka                          1\n",
       "Name: prevodovka, Length: 16, dtype: int64"
      ]
     },
     "execution_count": 890,
     "metadata": {},
     "output_type": "execute_result"
    }
   ],
   "source": [
    "auta_merged['prevodovka'].value_counts()"
   ]
  },
  {
   "cell_type": "code",
   "execution_count": 891,
   "id": "281b6b95-f0b6-403e-b145-407f61f2bc38",
   "metadata": {},
   "outputs": [],
   "source": [
    "seznam_spatnych_prevodovek = ['Celkový výkon 185kW', 'Celkový výkon 138kW', 'Celkový výkon 92kW' , 'Celkový výkon 220kW', 'Celkový výkon 90kW']"
   ]
  },
  {
   "cell_type": "markdown",
   "id": "62496b79-4646-440e-bed9-d9eb45790704",
   "metadata": {},
   "source": [
    "#### Nahrazení špatných hodnot u proměnných (převodovka, barva a motor) nejčastější hodnotou"
   ]
  },
  {
   "cell_type": "code",
   "execution_count": 892,
   "id": "d7087258-8594-423a-87a2-db3f1efc4435",
   "metadata": {
    "tags": []
   },
   "outputs": [
    {
     "data": {
      "text/plain": [
       "179     Výkon spal. motoru 135kW\n",
       "514     Výkon spal. motoru 103kW\n",
       "715      Výkon spal. motoru 91kW\n",
       "956     Výkon spal. motoru 183kW\n",
       "1537     Výkon spal. motoru 72kW\n",
       "Name: barva, dtype: object"
      ]
     },
     "execution_count": 892,
     "metadata": {},
     "output_type": "execute_result"
    }
   ],
   "source": [
    "auta_merged[auta_merged['prevodovka'].isin(seznam_spatnych_prevodovek)].loc[:, 'barva']"
   ]
  },
  {
   "cell_type": "code",
   "execution_count": 893,
   "id": "aa20072b-9f0f-42f3-b067-209b04ecf93a",
   "metadata": {},
   "outputs": [
    {
     "data": {
      "text/plain": [
       "'Převodovka 6 stupňů'"
      ]
     },
     "execution_count": 893,
     "metadata": {},
     "output_type": "execute_result"
    }
   ],
   "source": [
    "modus_prevodovka = auta_merged['prevodovka'].value_counts().idxmax()\n",
    "modus_prevodovka"
   ]
  },
  {
   "cell_type": "code",
   "execution_count": 894,
   "id": "15dac343-d49c-4928-b2c8-a2e524c14c41",
   "metadata": {},
   "outputs": [],
   "source": [
    "auta_merged.loc[auta_merged['prevodovka'].isin(seznam_spatnych_prevodovek),'prevodovka'] = auta_merged.loc[auta_merged['prevodovka'].isin(seznam_spatnych_prevodovek),'prevodovka'].apply(lambda s: re.sub(r'^.*$', modus_prevodovka, s))"
   ]
  },
  {
   "cell_type": "code",
   "execution_count": 895,
   "id": "3ffd5294-730c-43a6-9f63-5654c8318542",
   "metadata": {},
   "outputs": [],
   "source": [
    "auta_merged.loc[(auta_merged['barva'].str.contains('STK') == 1) | (auta_merged['barva'].str.contains('kW') == 1), 'barva'] = auta_merged.loc[(auta_merged['barva'].str.contains('STK') == 1) | (auta_merged['barva'].str.contains('kW') == 1), 'barva'].apply(lambda s: re.sub(r'^.*$', modus_barva, s))"
   ]
  },
  {
   "cell_type": "code",
   "execution_count": 896,
   "id": "2a00f0b4-86c8-450c-846e-3d34a6eecba9",
   "metadata": {},
   "outputs": [],
   "source": [
    "auta_merged.loc[(auta_merged['motor'].str.contains('kW') == 0), 'motor'] = auta_clean.loc[(auta_clean['motor'].str.contains('kW') == 0), 'barva']"
   ]
  },
  {
   "cell_type": "markdown",
   "id": "0dc313db-76c9-462f-9f79-5abdeb26cd8b",
   "metadata": {},
   "source": [
    "#### Z převodovky vytvoření pouze 2 kategorií = automat a manuál"
   ]
  },
  {
   "cell_type": "code",
   "execution_count": 897,
   "id": "b594049c-804e-475b-9e71-e61dcda8ad08",
   "metadata": {},
   "outputs": [],
   "source": [
    "auta_merged.loc[auta_merged['prevodovka'].str.contains('Převodovka'), 'prevodovka'] = auta_merged.loc[auta_merged['prevodovka'].str.contains('Převodovka'), 'prevodovka'].apply(lambda x: 'Automat' if 'Automat' in x else 'Manuál')"
   ]
  },
  {
   "cell_type": "code",
   "execution_count": 898,
   "id": "760efdb0-ddd2-4f5a-89fc-f4f1db84921e",
   "metadata": {},
   "outputs": [
    {
     "data": {
      "text/plain": [
       "Manuál     1813\n",
       "Automat    1123\n",
       "Name: prevodovka, dtype: int64"
      ]
     },
     "execution_count": 898,
     "metadata": {},
     "output_type": "execute_result"
    }
   ],
   "source": [
    "auta_merged['prevodovka'].value_counts()"
   ]
  },
  {
   "cell_type": "markdown",
   "id": "2b44b951-fa9c-44df-a83c-8c9aaf282425",
   "metadata": {},
   "source": [
    "#### Z paliva vytvoření pouze následujících kategorií: diesel, benzín, LPG, Hybrid, CNG"
   ]
  },
  {
   "cell_type": "code",
   "execution_count": 899,
   "id": "34b9d38a-140a-4faa-b59c-50ea255194aa",
   "metadata": {},
   "outputs": [
    {
     "data": {
      "text/plain": [
       "Palivo Diesel           2015\n",
       "Palivo Benzín            862\n",
       "Palivo LPG                38\n",
       "Palivo Hybrid (FHEV)      10\n",
       "Palivo CNG                 4\n",
       "Palivo Benzín (MHEV)       3\n",
       "Palivo Diesel (MHEV)       2\n",
       "Palivo Hybrid (MHEV)       1\n",
       "Palivo Hybrid (PHEV)       1\n",
       "Name: palivo, dtype: int64"
      ]
     },
     "execution_count": 899,
     "metadata": {},
     "output_type": "execute_result"
    }
   ],
   "source": [
    "auta_merged['palivo'].value_counts()"
   ]
  },
  {
   "cell_type": "code",
   "execution_count": 900,
   "id": "1e79198f-ea1c-4b85-b219-98e5441e2a0a",
   "metadata": {
    "tags": []
   },
   "outputs": [],
   "source": [
    "auta_merged['palivo'] = np.select([auta_merged['palivo'].str.contains('Diesel', case=False), auta_merged['palivo'].str.contains('Benzín', case=False), auta_merged['palivo'].str.contains('LPG', case=False),\n",
    "          auta_merged['palivo'].str.contains('CNG', case=False), auta_merged['palivo'].str.contains('Hybrid', case=False)],\n",
    "          ['Diesel','Benzín','LPG','CNG','Hybrid'])"
   ]
  },
  {
   "cell_type": "code",
   "execution_count": 901,
   "id": "0d0abbc8-df52-4625-b86c-615fae716e51",
   "metadata": {},
   "outputs": [
    {
     "data": {
      "text/plain": [
       "Diesel    2017\n",
       "Benzín     865\n",
       "LPG         38\n",
       "Hybrid      12\n",
       "CNG          4\n",
       "Name: palivo, dtype: int64"
      ]
     },
     "execution_count": 901,
     "metadata": {},
     "output_type": "execute_result"
    }
   ],
   "source": [
    "auta_merged['palivo'].value_counts()"
   ]
  },
  {
   "cell_type": "markdown",
   "id": "78867d6e-a6ae-476d-9f21-23eff91383eb",
   "metadata": {},
   "source": [
    "#### Smazání zbytečného textu ze stringů"
   ]
  },
  {
   "cell_type": "code",
   "execution_count": 902,
   "id": "88695427-ea7f-4408-ab8d-d85c73525832",
   "metadata": {},
   "outputs": [],
   "source": [
    "auta_merged['barva'] = auta_merged['barva'].replace({'Barva ': ''}, regex=True)"
   ]
  },
  {
   "cell_type": "code",
   "execution_count": 903,
   "id": "e1b969fd-f1cd-4996-848a-f3f23c8e4ac6",
   "metadata": {},
   "outputs": [],
   "source": [
    "auta_merged['karoserie'] = auta_merged['karoserie'].replace({'Karoserie ': ''}, regex=True)"
   ]
  },
  {
   "cell_type": "code",
   "execution_count": 904,
   "id": "c7527241-583c-4980-9730-7c0f3392d6e2",
   "metadata": {},
   "outputs": [],
   "source": [
    "auta_merged['motor'] = auta_merged['motor'].replace({'Motor ': ''}, regex=True)"
   ]
  },
  {
   "cell_type": "markdown",
   "id": "b6babe1b-2b72-4dc8-81f2-9b75f21b3337",
   "metadata": {},
   "source": [
    "#### Extrakce z proměnné motor -> proměnná výkon (kW)"
   ]
  },
  {
   "cell_type": "code",
   "execution_count": 927,
   "id": "942babd9-6ac6-4f29-8e7e-e530ffa25afc",
   "metadata": {},
   "outputs": [],
   "source": [
    "pd.set_option('display.max_rows', 10)"
   ]
  },
  {
   "cell_type": "code",
   "execution_count": 928,
   "id": "19bab51c-5c66-424f-9712-c2cd1aa282b4",
   "metadata": {},
   "outputs": [],
   "source": [
    "regex = (r\"(\\d*[kW].*$)\")"
   ]
  },
  {
   "cell_type": "code",
   "execution_count": 929,
   "id": "2d16c089-0d63-491c-acac-3d3a9c8828e6",
   "metadata": {},
   "outputs": [],
   "source": [
    "auta_merged['motor'] = auta_merged['motor'].str.extract(regex)"
   ]
  },
  {
   "cell_type": "code",
   "execution_count": 930,
   "id": "7f84ca83-f1e4-404b-bb80-9ff7e03a3676",
   "metadata": {},
   "outputs": [],
   "source": [
    "regex2 = (r\"(\\d{2,3})\")"
   ]
  },
  {
   "cell_type": "code",
   "execution_count": 931,
   "id": "7e6a9c9f-3bf1-47b4-84f9-382bead0bda0",
   "metadata": {},
   "outputs": [],
   "source": [
    "auta_merged['motor'] = auta_merged['motor'].str.extract(regex2)"
   ]
  },
  {
   "cell_type": "code",
   "execution_count": 933,
   "id": "bc6d23ef-1027-4824-b98e-6313cfe48b8b",
   "metadata": {},
   "outputs": [],
   "source": [
    "auta_merged['motor'] = auta_merged['motor'].astype(int)"
   ]
  },
  {
   "cell_type": "code",
   "execution_count": 934,
   "id": "e0bb522f-992c-444a-9bab-85380c9fa394",
   "metadata": {},
   "outputs": [
    {
     "name": "stdout",
     "output_type": "stream",
     "text": [
      "<class 'pandas.core.frame.DataFrame'>\n",
      "RangeIndex: 2936 entries, 0 to 2935\n",
      "Data columns (total 11 columns):\n",
      " #   Column      Non-Null Count  Dtype \n",
      "---  ------      --------------  ----- \n",
      " 0   id          2936 non-null   object\n",
      " 1   znacka      2936 non-null   object\n",
      " 2   model       2936 non-null   object\n",
      " 3   cena        2936 non-null   int32 \n",
      " 4   rok         2936 non-null   int64 \n",
      " 5   tachometr   2936 non-null   int32 \n",
      " 6   motor       2936 non-null   int32 \n",
      " 7   prevodovka  2936 non-null   object\n",
      " 8   barva       2936 non-null   object\n",
      " 9   karoserie   2936 non-null   object\n",
      " 10  palivo      2936 non-null   object\n",
      "dtypes: int32(3), int64(1), object(7)\n",
      "memory usage: 218.0+ KB\n"
     ]
    }
   ],
   "source": [
    "auta_merged.info()"
   ]
  },
  {
   "cell_type": "markdown",
   "id": "187725ad-e7cf-4473-86f3-1514057b2fec",
   "metadata": {},
   "source": [
    "#### Přejmenování sloupců (jednotky)"
   ]
  },
  {
   "cell_type": "code",
   "execution_count": 938,
   "id": "214a7b32-b00c-4880-8860-8cb206a65e45",
   "metadata": {},
   "outputs": [],
   "source": [
    "auta_merged = auta_merged.rename(columns = {'cena':'cena_kc', 'tachometr':'tachometr_km','motor':'vykon_kw'})"
   ]
  },
  {
   "cell_type": "markdown",
   "id": "1975a77b-a0e7-46aa-945c-185696499c74",
   "metadata": {},
   "source": [
    "#### Data jsou čistá!"
   ]
  },
  {
   "cell_type": "code",
   "execution_count": 939,
   "id": "df593f68-a3de-4059-b9d6-778f4eeca5d9",
   "metadata": {},
   "outputs": [
    {
     "data": {
      "text/html": [
       "<div>\n",
       "<style scoped>\n",
       "    .dataframe tbody tr th:only-of-type {\n",
       "        vertical-align: middle;\n",
       "    }\n",
       "\n",
       "    .dataframe tbody tr th {\n",
       "        vertical-align: top;\n",
       "    }\n",
       "\n",
       "    .dataframe thead th {\n",
       "        text-align: right;\n",
       "    }\n",
       "</style>\n",
       "<table border=\"1\" class=\"dataframe\">\n",
       "  <thead>\n",
       "    <tr style=\"text-align: right;\">\n",
       "      <th>cumcount</th>\n",
       "      <th>id</th>\n",
       "      <th>znacka</th>\n",
       "      <th>model</th>\n",
       "      <th>cena_kc</th>\n",
       "      <th>rok</th>\n",
       "      <th>tachometr_km</th>\n",
       "      <th>vykon_kw</th>\n",
       "      <th>prevodovka</th>\n",
       "      <th>barva</th>\n",
       "      <th>karoserie</th>\n",
       "      <th>palivo</th>\n",
       "    </tr>\n",
       "  </thead>\n",
       "  <tbody>\n",
       "    <tr>\n",
       "      <th>0</th>\n",
       "      <td>Alfa Romeo 159, 2007_371</td>\n",
       "      <td>Alfa Romeo</td>\n",
       "      <td>Alfa Romeo 159</td>\n",
       "      <td>74000</td>\n",
       "      <td>2007</td>\n",
       "      <td>235177</td>\n",
       "      <td>110</td>\n",
       "      <td>Manuál</td>\n",
       "      <td>stříbrná-metalíza</td>\n",
       "      <td>Combi</td>\n",
       "      <td>Diesel</td>\n",
       "    </tr>\n",
       "    <tr>\n",
       "      <th>1</th>\n",
       "      <td>Alfa Romeo 159, 2008_1894</td>\n",
       "      <td>Alfa Romeo</td>\n",
       "      <td>Alfa Romeo 159</td>\n",
       "      <td>106000</td>\n",
       "      <td>2008</td>\n",
       "      <td>196092</td>\n",
       "      <td>110</td>\n",
       "      <td>Automat</td>\n",
       "      <td>šedá-metalíza</td>\n",
       "      <td>Combi</td>\n",
       "      <td>Diesel</td>\n",
       "    </tr>\n",
       "    <tr>\n",
       "      <th>2</th>\n",
       "      <td>Alfa Romeo Giulietta, 2018_2882</td>\n",
       "      <td>Alfa Romeo</td>\n",
       "      <td>Alfa Romeo Giulietta</td>\n",
       "      <td>311000</td>\n",
       "      <td>2018</td>\n",
       "      <td>84788</td>\n",
       "      <td>88</td>\n",
       "      <td>Manuál</td>\n",
       "      <td>šedá-metalíza</td>\n",
       "      <td>Hatchback</td>\n",
       "      <td>Diesel</td>\n",
       "    </tr>\n",
       "    <tr>\n",
       "      <th>3</th>\n",
       "      <td>Audi A3, 2009_2688</td>\n",
       "      <td>Audi</td>\n",
       "      <td>Audi A3</td>\n",
       "      <td>180000</td>\n",
       "      <td>2009</td>\n",
       "      <td>199896</td>\n",
       "      <td>118</td>\n",
       "      <td>Manuál</td>\n",
       "      <td>šedá-metalíza</td>\n",
       "      <td>Hatchback</td>\n",
       "      <td>Benzín</td>\n",
       "    </tr>\n",
       "    <tr>\n",
       "      <th>4</th>\n",
       "      <td>Audi A3, 2009_2765</td>\n",
       "      <td>Audi</td>\n",
       "      <td>Audi A3</td>\n",
       "      <td>200000</td>\n",
       "      <td>2009</td>\n",
       "      <td>122236</td>\n",
       "      <td>75</td>\n",
       "      <td>Automat</td>\n",
       "      <td>bílá</td>\n",
       "      <td>Hatchback</td>\n",
       "      <td>Benzín</td>\n",
       "    </tr>\n",
       "    <tr>\n",
       "      <th>...</th>\n",
       "      <td>...</td>\n",
       "      <td>...</td>\n",
       "      <td>...</td>\n",
       "      <td>...</td>\n",
       "      <td>...</td>\n",
       "      <td>...</td>\n",
       "      <td>...</td>\n",
       "      <td>...</td>\n",
       "      <td>...</td>\n",
       "      <td>...</td>\n",
       "      <td>...</td>\n",
       "    </tr>\n",
       "    <tr>\n",
       "      <th>2931</th>\n",
       "      <td>Škoda Yeti, 2016_1177</td>\n",
       "      <td>Škoda</td>\n",
       "      <td>Škoda Yeti</td>\n",
       "      <td>328000</td>\n",
       "      <td>2016</td>\n",
       "      <td>92427</td>\n",
       "      <td>92</td>\n",
       "      <td>Manuál</td>\n",
       "      <td>hnědá-metalíza</td>\n",
       "      <td>SUV</td>\n",
       "      <td>Benzín</td>\n",
       "    </tr>\n",
       "    <tr>\n",
       "      <th>2932</th>\n",
       "      <td>Škoda Yeti, 2016_194</td>\n",
       "      <td>Škoda</td>\n",
       "      <td>Škoda Yeti</td>\n",
       "      <td>276000</td>\n",
       "      <td>2016</td>\n",
       "      <td>154613</td>\n",
       "      <td>110</td>\n",
       "      <td>Manuál</td>\n",
       "      <td>bílá</td>\n",
       "      <td>SUV</td>\n",
       "      <td>Benzín</td>\n",
       "    </tr>\n",
       "    <tr>\n",
       "      <th>2933</th>\n",
       "      <td>Škoda Yeti, 2016_967</td>\n",
       "      <td>Škoda</td>\n",
       "      <td>Škoda Yeti</td>\n",
       "      <td>365000</td>\n",
       "      <td>2016</td>\n",
       "      <td>134560</td>\n",
       "      <td>81</td>\n",
       "      <td>Manuál</td>\n",
       "      <td>bílá-metalíza</td>\n",
       "      <td>SUV</td>\n",
       "      <td>Diesel</td>\n",
       "    </tr>\n",
       "    <tr>\n",
       "      <th>2934</th>\n",
       "      <td>Škoda Yeti, 2017_1083</td>\n",
       "      <td>Škoda</td>\n",
       "      <td>Škoda Yeti</td>\n",
       "      <td>330000</td>\n",
       "      <td>2017</td>\n",
       "      <td>147493</td>\n",
       "      <td>81</td>\n",
       "      <td>Manuál</td>\n",
       "      <td>bílá</td>\n",
       "      <td>SUV</td>\n",
       "      <td>Diesel</td>\n",
       "    </tr>\n",
       "    <tr>\n",
       "      <th>2935</th>\n",
       "      <td>Škoda Yeti, 2017_1262</td>\n",
       "      <td>Škoda</td>\n",
       "      <td>Škoda Yeti</td>\n",
       "      <td>377000</td>\n",
       "      <td>2017</td>\n",
       "      <td>86017</td>\n",
       "      <td>81</td>\n",
       "      <td>Automat</td>\n",
       "      <td>červená</td>\n",
       "      <td>SUV</td>\n",
       "      <td>Benzín</td>\n",
       "    </tr>\n",
       "  </tbody>\n",
       "</table>\n",
       "<p>2936 rows × 11 columns</p>\n",
       "</div>"
      ],
      "text/plain": [
       "cumcount                               id      znacka                 model  \\\n",
       "0                Alfa Romeo 159, 2007_371  Alfa Romeo        Alfa Romeo 159   \n",
       "1               Alfa Romeo 159, 2008_1894  Alfa Romeo        Alfa Romeo 159   \n",
       "2         Alfa Romeo Giulietta, 2018_2882  Alfa Romeo  Alfa Romeo Giulietta   \n",
       "3                      Audi A3, 2009_2688        Audi               Audi A3   \n",
       "4                      Audi A3, 2009_2765        Audi               Audi A3   \n",
       "...                                   ...         ...                   ...   \n",
       "2931                Škoda Yeti, 2016_1177       Škoda            Škoda Yeti   \n",
       "2932                 Škoda Yeti, 2016_194       Škoda            Škoda Yeti   \n",
       "2933                 Škoda Yeti, 2016_967       Škoda            Škoda Yeti   \n",
       "2934                Škoda Yeti, 2017_1083       Škoda            Škoda Yeti   \n",
       "2935                Škoda Yeti, 2017_1262       Škoda            Škoda Yeti   \n",
       "\n",
       "cumcount  cena_kc   rok  tachometr_km  vykon_kw prevodovka              barva  \\\n",
       "0           74000  2007        235177       110     Manuál  stříbrná-metalíza   \n",
       "1          106000  2008        196092       110    Automat      šedá-metalíza   \n",
       "2          311000  2018         84788        88     Manuál      šedá-metalíza   \n",
       "3          180000  2009        199896       118     Manuál      šedá-metalíza   \n",
       "4          200000  2009        122236        75    Automat               bílá   \n",
       "...           ...   ...           ...       ...        ...                ...   \n",
       "2931       328000  2016         92427        92     Manuál     hnědá-metalíza   \n",
       "2932       276000  2016        154613       110     Manuál               bílá   \n",
       "2933       365000  2016        134560        81     Manuál      bílá-metalíza   \n",
       "2934       330000  2017        147493        81     Manuál               bílá   \n",
       "2935       377000  2017         86017        81    Automat            červená   \n",
       "\n",
       "cumcount  karoserie  palivo  \n",
       "0             Combi  Diesel  \n",
       "1             Combi  Diesel  \n",
       "2         Hatchback  Diesel  \n",
       "3         Hatchback  Benzín  \n",
       "4         Hatchback  Benzín  \n",
       "...             ...     ...  \n",
       "2931            SUV  Benzín  \n",
       "2932            SUV  Benzín  \n",
       "2933            SUV  Diesel  \n",
       "2934            SUV  Diesel  \n",
       "2935            SUV  Benzín  \n",
       "\n",
       "[2936 rows x 11 columns]"
      ]
     },
     "execution_count": 939,
     "metadata": {},
     "output_type": "execute_result"
    }
   ],
   "source": [
    "auta_merged"
   ]
  },
  {
   "cell_type": "markdown",
   "id": "f402c0d7-a65c-4ae1-84dd-35c766c974ad",
   "metadata": {},
   "source": [
    "#### Export čistých dat do csv"
   ]
  },
  {
   "cell_type": "code",
   "execution_count": 935,
   "id": "c78b3021-69e8-4e11-8696-4022ce514e7d",
   "metadata": {},
   "outputs": [],
   "source": [
    "auta_merged.to_csv('auta_nova.csv',encoding='utf-8-sig')"
   ]
  }
 ],
 "metadata": {
  "kernelspec": {
   "display_name": "Python 3 (ipykernel)",
   "language": "python",
   "name": "python3"
  },
  "language_info": {
   "codemirror_mode": {
    "name": "ipython",
    "version": 3
   },
   "file_extension": ".py",
   "mimetype": "text/x-python",
   "name": "python",
   "nbconvert_exporter": "python",
   "pygments_lexer": "ipython3",
   "version": "3.9.6"
  }
 },
 "nbformat": 4,
 "nbformat_minor": 5
}
